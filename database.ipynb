{
 "cells": [
  {
   "cell_type": "markdown",
   "metadata": {},
   "source": [
    "pip instal sqlalchemy"
   ]
  },
  {
   "cell_type": "markdown",
   "metadata": {},
   "source": [
    "step  - setup up the database and its tables"
   ]
  },
  {
   "cell_type": "code",
   "execution_count": 10,
   "metadata": {},
   "outputs": [],
   "source": [
    "from sqlalchemy import create_engine\n",
    "from sqlalchemy.orm import sessionmaker, declarative_base\n",
    "from sqlalchemy import Column,Integer , String,Boolean"
   ]
  },
  {
   "cell_type": "code",
   "execution_count": 11,
   "metadata": {},
   "outputs": [],
   "source": [
    "base= declarative_base() # create  a base class for table models"
   ]
  },
  {
   "cell_type": "code",
   "execution_count": 12,
   "metadata": {},
   "outputs": [],
   "source": [
    "class Report(base):\n",
    "    __tablename__ = 'reports'\n",
    "    id = Column(Integer, primary_key=True)\n",
    "\n",
    "    name = Column(String(25))\n",
    "    eng = Column(Integer)\n",
    "    math = Column(Integer)\n",
    "    sci = Column(Integer)\n",
    "    hin = Column(Integer)\n",
    "    is_passed = Column(Boolean)\n",
    "    "
   ]
  },
  {
   "cell_type": "code",
   "execution_count": 13,
   "metadata": {},
   "outputs": [],
   "source": [
    "# create the database engine\n",
    "# syntax\n",
    "# create_engine('driver///databaseconnection')\n",
    "engine = create_engine('sqlite:///school.db')\n",
    "base.metadata.create_all(engine)"
   ]
  },
  {
   "cell_type": "markdown",
   "metadata": {},
   "source": [
    "step 2: creating a connection"
   ]
  },
  {
   "cell_type": "code",
   "execution_count": 14,
   "metadata": {},
   "outputs": [],
   "source": [
    "def opendb():\n",
    "    engine=create_engine('sqlite:///school.db')\n",
    "    Session = sessionmaker(bind=engine)\n",
    "    session= Session()\n",
    "    return session"
   ]
  },
  {
   "cell_type": "code",
   "execution_count": 15,
   "metadata": {},
   "outputs": [
    {
     "name": "stdout",
     "output_type": "stream",
     "text": [
      "Report added sucessfully\n"
     ]
    }
   ],
   "source": [
    "name = input('enter the name:')\n",
    "eng = int(input('enter english marks:'))\n",
    "math = int(input('enter math marks:'))\n",
    "sci = int (input('enter  science marks:'))\n",
    "hin = int(input('enter hindi marks:'))\n",
    "total = eng+math+sci+hin\n",
    "perc = total/400*100\n",
    "is_passed = perc >= 40\n",
    "db = opendb()\n",
    "report= Report(name=name, eng=eng, math=math,sci=sci,\n",
    "               hin=hin, is_passed=is_passed)\n",
    "\n",
    "db.add(report)\n",
    "db.commit()\n",
    "db.close()\n",
    "print('Report added sucessfully')"
   ]
  },
  {
   "cell_type": "markdown",
   "metadata": {},
   "source": [
    "step 4: retrieving data"
   ]
  },
  {
   "cell_type": "code",
   "execution_count": 16,
   "metadata": {},
   "outputs": [
    {
     "name": "stdout",
     "output_type": "stream",
     "text": [
      "1 sad\n",
      "23,56,67,8\n",
      "Failed\n",
      "2 ui\n",
      "23,56,78,9\n",
      "passed\n",
      "3 amit 58\n",
      "47,89,58,52\n",
      "passed\n",
      "4 amit 58\n",
      "75,96,85,52\n",
      "passed\n",
      "5 Are\n",
      "23,23,23,21\n",
      "Failed\n"
     ]
    }
   ],
   "source": [
    "db = opendb()\n",
    "reports= db.query(Report).all()\n",
    "db.close()\n",
    "for item in reports:\n",
    "    print(item.id, item.name)\n",
    "    print(f\"{item.eng},{item.math},{item.sci},{item.hin}\")\n",
    "    print(\"passed\"if item.is_passed else \"Failed\")"
   ]
  },
  {
   "cell_type": "markdown",
   "metadata": {},
   "source": [
    "step 5 removing data"
   ]
  },
  {
   "cell_type": "code",
   "execution_count": 20,
   "metadata": {},
   "outputs": [
    {
     "name": "stdout",
     "output_type": "stream",
     "text": [
      "Report deleted successfully\n"
     ]
    }
   ],
   "source": [
    "id = 2 \n",
    "db = opendb()\n",
    "db.query(Report).filter(Report.id==id).delete()\n",
    "db.commit()\n",
    "db.close()\n",
    "print('Report deleted successfully')"
   ]
  },
  {
   "cell_type": "markdown",
   "metadata": {},
   "source": [
    "step6 - searching data"
   ]
  },
  {
   "cell_type": "code",
   "execution_count": 21,
   "metadata": {},
   "outputs": [
    {
     "name": "stdout",
     "output_type": "stream",
     "text": [
      "4amit 58True\n"
     ]
    }
   ],
   "source": [
    "eng_marks = 60\n",
    "db = opendb()\n",
    "reports=db.query(Report).filter(Report.eng >= eng_marks).all()\n",
    "db.close()\n",
    "for item in reports:\n",
    "    print(f\"{item.id}{item.name}{item.is_passed}\")"
   ]
  },
  {
   "cell_type": "code",
   "execution_count": null,
   "metadata": {},
   "outputs": [],
   "source": [
    "id = 5\n",
    "db = opendb()\n",
    "report=db.query(Report).filter(Report.id == id).first()\n",
    "db.close()\n",
    "if report"
   ]
  },
  {
   "cell_type": "code",
   "execution_count": 22,
   "metadata": {},
   "outputs": [
    {
     "name": "stdout",
     "output_type": "stream",
     "text": [
      "3 <__main__.Report object at 0x00000205D8F93440> a\n",
      "4 <__main__.Report object at 0x00000205D92AA510> a\n",
      "5 <__main__.Report object at 0x00000205D8F8EF30> a\n"
     ]
    }
   ],
   "source": [
    "name = 'a'\n",
    "db = opendb()\n",
    "report = db.query(Report).filter(Report.name.like(f\"{name}%\")).all()\n",
    "db.close()\n",
    "for item in report:\n",
    "    print(item.id, item,name)\n",
    "    "
   ]
  },
  {
   "cell_type": "code",
   "execution_count": 23,
   "metadata": {},
   "outputs": [
    {
     "name": "stdout",
     "output_type": "stream",
     "text": [
      "Report updated successfully\n"
     ]
    }
   ],
   "source": [
    "id = 5\n",
    "db = opendb()\n",
    "report=db.query(Report).filter(Report.id==id).first()\n",
    "if report:\n",
    "    report.eng = 60\n",
    "    report.math = 60\n",
    "    report.is_passed = True\n",
    "    db.commit()\n",
    "    print('Report updated successfully')\n",
    "db.close()    "
   ]
  },
  {
   "cell_type": "code",
   "execution_count": null,
   "metadata": {},
   "outputs": [],
   "source": []
  }
 ],
 "metadata": {
  "kernelspec": {
   "display_name": "base",
   "language": "python",
   "name": "python3"
  },
  "language_info": {
   "codemirror_mode": {
    "name": "ipython",
    "version": 3
   },
   "file_extension": ".py",
   "mimetype": "text/x-python",
   "name": "python",
   "nbconvert_exporter": "python",
   "pygments_lexer": "ipython3",
   "version": "3.12.3"
  }
 },
 "nbformat": 4,
 "nbformat_minor": 2
}
