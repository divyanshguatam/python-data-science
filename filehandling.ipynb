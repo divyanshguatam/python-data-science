{
 "cells": [
  {
   "cell_type": "code",
   "execution_count": 1,
   "metadata": {},
   "outputs": [],
   "source": [
    "import os"
   ]
  },
  {
   "cell_type": "code",
   "execution_count": 3,
   "metadata": {},
   "outputs": [
    {
     "name": "stdout",
     "output_type": "stream",
     "text": [
      "c:\\Users\\Dell\\Documents\\python data science\n"
     ]
    }
   ],
   "source": [
    "BASE_DIR= os.getcwd()\n",
    "print(BASE_DIR)"
   ]
  },
  {
   "cell_type": "code",
   "execution_count": 4,
   "metadata": {},
   "outputs": [
    {
     "name": "stdout",
     "output_type": "stream",
     "text": [
      "['.git', 'basics.ipynb', 'filehandling.ipynb', 'functions.ipynb', 'io.ipynb', 'khani.py', 'list.ipynb', 'loop.ipynb', 'pattern1.py', 'pettern2.py', 'set_n_dict.ipynb', 'string.ipynb', 'string.py']\n"
     ]
    }
   ],
   "source": [
    "content = os.listdir()\n",
    "print(content)"
   ]
  },
  {
   "cell_type": "code",
   "execution_count": 5,
   "metadata": {},
   "outputs": [
    {
     "name": "stdout",
     "output_type": "stream",
     "text": [
      "total content:24\n"
     ]
    }
   ],
   "source": [
    "addr = r'c:\\program files'\n",
    "content= os.listdir(addr)\n",
    "print(f'total content:{len(content)}')"
   ]
  },
  {
   "cell_type": "code",
   "execution_count": 6,
   "metadata": {},
   "outputs": [
    {
     "data": {
      "text/plain": [
       "['C:\\\\', 'D:\\\\', 'E:\\\\', 'F:\\\\']"
      ]
     },
     "execution_count": 6,
     "metadata": {},
     "output_type": "execute_result"
    }
   ],
   "source": [
    "os.listdrives()"
   ]
  },
  {
   "cell_type": "code",
   "execution_count": 8,
   "metadata": {},
   "outputs": [
    {
     "name": "stdout",
     "output_type": "stream",
     "text": [
      "['$MfeDeepRem', '$RECYCLE.BIN', 'A047414310.pdf', 'Doc1.docx', 'E SARM CARD', 'MICROSOFT ID.txt', 'pan card', 'Shipra Marriage', 'software', 'System Volume Information', 'फोटो कॉपी.docx']\n"
     ]
    }
   ],
   "source": [
    "os.chdir(\"E:\")\n",
    "print(os.listdir())"
   ]
  },
  {
   "cell_type": "code",
   "execution_count": 13,
   "metadata": {},
   "outputs": [
    {
     "data": {
      "text/plain": [
       "'E:\\\\'"
      ]
     },
     "execution_count": 13,
     "metadata": {},
     "output_type": "execute_result"
    }
   ],
   "source": [
    "os.getcwd()"
   ]
  },
  {
   "cell_type": "code",
   "execution_count": 18,
   "metadata": {},
   "outputs": [],
   "source": [
    "os.makedirs(\"mynotes\",exist_ok =True)"
   ]
  },
  {
   "cell_type": "markdown",
   "metadata": {},
   "source": [
    "# python file handling\n",
    "open()- opens file respurce and returns a file object\n",
    "modes\n",
    " r'- read mode (default)\n",
    "'w'- write mode\n",
    "'a' - append mode"
   ]
  },
  {
   "cell_type": "code",
   "execution_count": 19,
   "metadata": {},
   "outputs": [],
   "source": [
    "with open('mynotes/note1.txt','w') as f:\n",
    "    f.write(\"this is my first note:\\n\")\n",
    "    f.write(\"python file handlibg is supper esssy\\n\")\n",
    "    f.write('you can creat and delte and filse easily\\n')\n",
    "    "
   ]
  },
  {
   "cell_type": "markdown",
   "metadata": {},
   "source": [
    "with open('file.txt','w') as file:\n",
    "    file.write(kahani)\n"
   ]
  },
  {
   "cell_type": "code",
   "execution_count": 20,
   "metadata": {},
   "outputs": [],
   "source": [
    "with open('mynotes/notes1.txt','a') as f:\n",
    "    f.write(\"os module is best\\n\")\n",
    "    f.write(\"python file handling is super esy\\n\")\n",
    "    f.write(\" my name in divyash\\n\")"
   ]
  },
  {
   "cell_type": "code",
   "execution_count": 22,
   "metadata": {},
   "outputs": [
    {
     "name": "stdout",
     "output_type": "stream",
     "text": [
      "os module is best\n",
      "python file handling is super esy\n",
      " my name in divyash\n",
      "\n"
     ]
    }
   ],
   "source": [
    "with open(\"mynotes/notes1.txt\") as file:\n",
    "    data = file.read()\n",
    "print(data)    "
   ]
  },
  {
   "cell_type": "code",
   "execution_count": 28,
   "metadata": {},
   "outputs": [
    {
     "ename": "AttributeError",
     "evalue": "module 'os' has no attribute 'lisdir'",
     "output_type": "error",
     "traceback": [
      "\u001b[1;31m---------------------------------------------------------------------------\u001b[0m",
      "\u001b[1;31mAttributeError\u001b[0m                            Traceback (most recent call last)",
      "Cell \u001b[1;32mIn[28], line 1\u001b[0m\n\u001b[1;32m----> 1\u001b[0m items \u001b[38;5;241m=\u001b[39m\u001b[43mos\u001b[49m\u001b[38;5;241;43m.\u001b[39;49m\u001b[43mlisdir\u001b[49m(\u001b[38;5;124m'\u001b[39m\u001b[38;5;124mC:/Users/Dell/Downloads\u001b[39m\u001b[38;5;124m'\u001b[39m)\n\u001b[0;32m      2\u001b[0m pdfs \u001b[38;5;241m=\u001b[39m\u001b[38;5;28mlist\u001b[39m(\u001b[38;5;28mfilter\u001b[39m(\u001b[38;5;28;01mlambda\u001b[39;00m file: file\u001b[38;5;241m.\u001b[39mendswith(\u001b[38;5;124m'\u001b[39m\u001b[38;5;124m.pdf\u001b[39m\u001b[38;5;124m'\u001b[39m),items))\n\u001b[0;32m      3\u001b[0m \u001b[38;5;28mprint\u001b[39m( os\u001b[38;5;241m.\u001b[39mpath\u001b[38;5;241m.\u001b[39mgetsizepdfs)\n",
      "\u001b[1;31mAttributeError\u001b[0m: module 'os' has no attribute 'lisdir'"
     ]
    }
   ],
   "source": [
    "items =os.lisdir('C:/Users/Dell/Downloads')\n",
    "pdfs =list(filter(lambda file: file.endswith('.pdf'),items))\n",
    "print( os.path.getsizepdfs)"
   ]
  }
 ],
 "metadata": {
  "kernelspec": {
   "display_name": "base",
   "language": "python",
   "name": "python3"
  },
  "language_info": {
   "codemirror_mode": {
    "name": "ipython",
    "version": 3
   },
   "file_extension": ".py",
   "mimetype": "text/x-python",
   "name": "python",
   "nbconvert_exporter": "python",
   "pygments_lexer": "ipython3",
   "version": "3.12.3"
  }
 },
 "nbformat": 4,
 "nbformat_minor": 2
}
