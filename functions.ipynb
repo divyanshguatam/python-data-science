{
 "cells": [
  {
   "cell_type": "markdown",
   "metadata": {},
   "source": [
    "function syntax\n",
    "# creating a function\n",
    "def func_name(param1, param2, ...):\n",
    "    # code here\n",
    "    # ...\n",
    "    return result\n",
    "# use a function/call a function\n",
    "result = func_name(arg1, arg2, ...)"
   ]
  },
  {
   "cell_type": "markdown",
   "metadata": {},
   "source": []
  },
  {
   "cell_type": "code",
   "execution_count": 9,
   "metadata": {},
   "outputs": [],
   "source": [
    "def si(p,r,t):\n",
    "    return p*r*t/100\n",
    "\n"
   ]
  },
  {
   "cell_type": "code",
   "execution_count": 14,
   "metadata": {},
   "outputs": [
    {
     "data": {
      "text/plain": [
       "180900.0"
      ]
     },
     "execution_count": 14,
     "metadata": {},
     "output_type": "execute_result"
    }
   ],
   "source": [
    "si(12000,33.5,45)"
   ]
  },
  {
   "cell_type": "code",
   "execution_count": 13,
   "metadata": {},
   "outputs": [],
   "source": [
    "def info(l, w):\n",
    "    area = l*w\n",
    "    perimeter = 2*(l+w)\n",
    "    return area, perimeter"
   ]
  },
  {
   "cell_type": "code",
   "execution_count": 15,
   "metadata": {},
   "outputs": [
    {
     "data": {
      "text/plain": [
       "(1000, 140)"
      ]
     },
     "execution_count": 15,
     "metadata": {},
     "output_type": "execute_result"
    }
   ],
   "source": [
    "info(20, 50)"
   ]
  },
  {
   "cell_type": "code",
   "execution_count": 16,
   "metadata": {},
   "outputs": [
    {
     "name": "stdout",
     "output_type": "stream",
     "text": [
      "Area:200, Perimeter:60\n"
     ]
    }
   ],
   "source": [
    "a, p = info(20, 10) # tuple unpacking\n",
    "print(f'Area:{a}, Perimeter:{p}')"
   ]
  },
  {
   "cell_type": "code",
   "execution_count": 17,
   "metadata": {},
   "outputs": [],
   "source": [
    "def acronym(name):\n",
    "    result = ''\n",
    "    for word in name.split():\n",
    "        # print(word[0])\n",
    "        result+=word[0]     # first letter\n",
    "    return result"
   ]
  },
  {
   "cell_type": "code",
   "execution_count": 18,
   "metadata": {},
   "outputs": [
    {
     "data": {
      "text/plain": [
       "'AI'"
      ]
     },
     "execution_count": 18,
     "metadata": {},
     "output_type": "execute_result"
    }
   ],
   "source": [
    "acronym(\"Artificial Intelligence\")"
   ]
  },
  {
   "cell_type": "code",
   "execution_count": 19,
   "metadata": {},
   "outputs": [
    {
     "name": "stdout",
     "output_type": "stream",
     "text": [
      "['Sam Altman', 'Guido Von Rossum', 'Tim Bell']\n",
      "['SA', 'GVR', 'TB']\n"
     ]
    }
   ],
   "source": [
    "names = ['Sam Altman', 'Guido Von Rossum', 'Tim Bell']\n",
    "acr = [acronym(name) for name in names]\n",
    "print(names)\n",
    "print(acr)"
   ]
  },
  {
   "cell_type": "markdown",
   "metadata": {},
   "source": [
    "default parameters\n",
    "variables arguments\n",
    "lambda expression"
   ]
  },
  {
   "cell_type": "code",
   "execution_count": 20,
   "metadata": {},
   "outputs": [
    {
     "name": "stdout",
     "output_type": "stream",
     "text": [
      "25\n",
      "9765625\n",
      "125\n"
     ]
    }
   ],
   "source": [
    "def power(number, exp=2):\n",
    "    return number ** exp\n",
    "\n",
    "print(power(5))\n",
    "print(power(5, 10))\n",
    "print(power(5, 3))"
   ]
  },
  {
   "cell_type": "code",
   "execution_count": 21,
   "metadata": {},
   "outputs": [
    {
     "name": "stdout",
     "output_type": "stream",
     "text": [
      "0\n",
      "120\n",
      "14\n",
      "5\n",
      "8\n",
      "28\n"
     ]
    }
   ],
   "source": [
    "def summer(a=0, b=0, c=0, d=0):\n",
    "    return a + b + c + d\n",
    "\n",
    "print(summer())\n",
    "print(summer(120))\n",
    "print(summer(2,3,4,5))\n",
    "print(summer(2,3))\n",
    "print(summer(a = 2,c = 6))\n",
    "print(summer(a = 2,c = 6,d = 20))"
   ]
  },
  {
   "cell_type": "code",
   "execution_count": 22,
   "metadata": {},
   "outputs": [
    {
     "data": {
      "text/plain": [
       "10"
      ]
     },
     "execution_count": 22,
     "metadata": {},
     "output_type": "execute_result"
    }
   ],
   "source": [
    "sum([1,2,3,4])"
   ]
  },
  {
   "cell_type": "code",
   "execution_count": 23,
   "metadata": {},
   "outputs": [
    {
     "name": "stdout",
     "output_type": "stream",
     "text": [
      "50\n",
      "12.5\n",
      "1\n",
      "3\n"
     ]
    }
   ],
   "source": [
    "def stats(*numbers, action='sum'):\n",
    "    if action == 'sum':\n",
    "        return sum(numbers)\n",
    "    if action == 'mean':\n",
    "        return sum(numbers)/len(numbers)\n",
    "    if action == 'count':\n",
    "        return len(numbers)\n",
    "    if action == 'min':\n",
    "        return min(numbers)\n",
    "    \n",
    "\n",
    "print(stats(11,12,13,14))\n",
    "print(stats(11,12,13,14, action='mean'))\n",
    "print(stats(1,1,1,2,1,3,1,1,4, action='min'))\n",
    "print(stats(11,12,13, action='count'))"
   ]
  },
  {
   "cell_type": "code",
   "execution_count": 24,
   "metadata": {},
   "outputs": [],
   "source": [
    "# any function that is not returning anything is returning None\n",
    "def greeting():\n",
    "    print(\"hello\")\n",
    "    print(\"world\")\n"
   ]
  },
  {
   "cell_type": "code",
   "execution_count": 25,
   "metadata": {},
   "outputs": [
    {
     "name": "stdout",
     "output_type": "stream",
     "text": [
      "hello\n",
      "world\n",
      "None\n"
     ]
    }
   ],
   "source": [
    "print(greeting())\n"
   ]
  },
  {
   "cell_type": "code",
   "execution_count": 26,
   "metadata": {},
   "outputs": [
    {
     "name": "stdout",
     "output_type": "stream",
     "text": [
      "[1, 4, 9, 16, 25]\n",
      "[1, 8, 27, 64, 125]\n"
     ]
    }
   ],
   "source": [
    "def apply(func, data):\n",
    "    return [func(x) for x in data]\n",
    "\n",
    "def square(x):\n",
    "    return x ** 2\n",
    "\n",
    "def cube(x):\n",
    "    return x ** 3\n",
    "\n",
    "# implement a function that takes a list of numbers and a function\n",
    "ans = apply(square, [1,2,3,4,5])\n",
    "print(ans)\n",
    "ans = apply(cube, [1,2,3,4,5])\n",
    "print(ans)"
   ]
  },
  {
   "cell_type": "markdown",
   "metadata": {},
   "source": [
    "lambda expression"
   ]
  },
  {
   "cell_type": "markdown",
   "metadata": {},
   "source": [
    "f(x) = x**2 + 10\n",
    "\n",
    "g(x,y) = x*2 + y*2 - x+y"
   ]
  },
  {
   "cell_type": "code",
   "execution_count": 27,
   "metadata": {},
   "outputs": [
    {
     "name": "stdout",
     "output_type": "stream",
     "text": [
      "<function <lambda> at 0x000001301B345BC0>\n",
      "14\n",
      "35\n",
      "110\n"
     ]
    }
   ],
   "source": [
    "f = lambda x: x**2 + 10\n",
    "print(f)\n",
    "print(f(2))\n",
    "print(f(5))\n",
    "print(f(10))"
   ]
  },
  {
   "cell_type": "code",
   "execution_count": 28,
   "metadata": {},
   "outputs": [
    {
     "name": "stdout",
     "output_type": "stream",
     "text": [
      "11\n",
      "12\n",
      "82\n"
     ]
    }
   ],
   "source": [
    "g = lambda x, y: x*2 + y*2 - x + y\n",
    "print(g(2,3))\n",
    "print(g(3,3))\n",
    "print(g(13,23))"
   ]
  },
  {
   "cell_type": "markdown",
   "metadata": {},
   "source": [
    "map and filter using lamda"
   ]
  },
  {
   "cell_type": "code",
   "execution_count": 30,
   "metadata": {},
   "outputs": [
    {
     "name": "stdout",
     "output_type": "stream",
     "text": [
      "[1]\n",
      "[1, 8]\n",
      "[1, 8, 27]\n",
      "[1, 8, 27, 64]\n",
      "[1, 8, 27, 64, 125]\n",
      "[1, 8, 27, 64, 125, 216]\n",
      "[1, 8, 27, 64, 125, 216]\n",
      "[1, 8, 27, 64, 125, 216]\n"
     ]
    }
   ],
   "source": [
    "x =[1,2,3,4,5,6]\n",
    "\n",
    "x3 =[]\n",
    "for i in x:\n",
    "    x3.append(i**3)\n",
    "    print(x3)\n",
    "\n",
    "    #styal 2 (comprehension\n",
    "x3 =[i**3 for i in x]\n",
    "print(x3)\n",
    "#styal 3 (map with lambda\n",
    "x3 = list(map(lambda i:i**3,x))\n",
    "print(x3)\n",
    "\n"
   ]
  },
  {
   "cell_type": "code",
   "execution_count": 31,
   "metadata": {},
   "outputs": [
    {
     "name": "stdout",
     "output_type": "stream",
     "text": [
      "[1, 2, 3, 4, 5]\n"
     ]
    }
   ],
   "source": [
    "x =[1,2,'a','b',3,'2',4,5,'6']\n",
    "nums=filter(lambda i: isinstance(i,int),x)\n",
    "nums = list(nums)\n",
    "print(nums)"
   ]
  },
  {
   "cell_type": "markdown",
   "metadata": {},
   "source": [
    "# user define fuctions\n",
    " - resuable code\n",
    " - easy to debug\n",
    " - make code verbose"
   ]
  },
  {
   "cell_type": "code",
   "execution_count": 5,
   "metadata": {},
   "outputs": [],
   "source": [
    "# declration\n",
    "def calculate_area(length, width ):\n",
    " area =  length* width\n",
    " return area"
   ]
  },
  {
   "cell_type": "code",
   "execution_count": 6,
   "metadata": {},
   "outputs": [
    {
     "data": {
      "text/plain": [
       "2500"
      ]
     },
     "execution_count": 6,
     "metadata": {},
     "output_type": "execute_result"
    }
   ],
   "source": [
    "# use == call\n",
    "calculate_area(100,25)"
   ]
  },
  {
   "cell_type": "markdown",
   "metadata": {},
   "source": [
    "types of function\n",
    "1.  non - parameterized\n",
    "2.  on basic of return\n",
    "    1. non- return type\n",
    "    2. retunr type\n",
    "3. on the basis of parametres\n",
    "    1. requerd parametre\n",
    "    2. default parameter\n",
    "    3. varible length argument\n",
    "    4. keyword vairble length argument \n",
    "4. anonymous function (lambda function)       "
   ]
  },
  {
   "cell_type": "code",
   "execution_count": 13,
   "metadata": {},
   "outputs": [],
   "source": [
    "def roll_dice():\n",
    "    import random\n",
    "    print(f\"Rolled {random.randint(1,6)}\")\n"
   ]
  },
  {
   "cell_type": "code",
   "execution_count": 14,
   "metadata": {},
   "outputs": [
    {
     "name": "stdout",
     "output_type": "stream",
     "text": [
      "Rolled 4\n"
     ]
    }
   ],
   "source": [
    "roll_dice()"
   ]
  },
  {
   "cell_type": "code",
   "execution_count": 15,
   "metadata": {},
   "outputs": [
    {
     "name": "stdout",
     "output_type": "stream",
     "text": [
      "Rolled 2\n",
      "Rolled 4\n",
      "Rolled 3\n"
     ]
    }
   ],
   "source": [
    "roll_dice()\n",
    "roll_dice()\n",
    "roll_dice()"
   ]
  },
  {
   "cell_type": "code",
   "execution_count": 24,
   "metadata": {},
   "outputs": [],
   "source": [
    "def count_files_in_current_folder():\n",
    "    import os\n",
    "    size = len(os.listdir())\n",
    "    print(f\"folder:{os.getcwd().split('\\\\')[-1]}\")\n",
    "    print(f\"total files n folder:{size}\")\n"
   ]
  },
  {
   "cell_type": "code",
   "execution_count": 25,
   "metadata": {},
   "outputs": [
    {
     "name": "stdout",
     "output_type": "stream",
     "text": [
      "folder:python data science\n",
      "total files n folder:16\n"
     ]
    }
   ],
   "source": [
    "count_files_in_current_folder()"
   ]
  },
  {
   "cell_type": "code",
   "execution_count": 27,
   "metadata": {},
   "outputs": [
    {
     "name": "stdout",
     "output_type": "stream",
     "text": [
      "5\n",
      "folder:python data science\n",
      "total files n folder:16\n",
      "None\n"
     ]
    }
   ],
   "source": [
    "s= len(\"hello\")\n",
    "print(s)\n",
    "c = count_files_in_current_folder()\n",
    "print(c)"
   ]
  },
  {
   "cell_type": "code",
   "execution_count": 29,
   "metadata": {},
   "outputs": [],
   "source": [
    "def word_count(sentence):\n",
    "    words=sentence.split()\n",
    "    return len(words)\n"
   ]
  },
  {
   "cell_type": "code",
   "execution_count": 30,
   "metadata": {},
   "outputs": [
    {
     "name": "stdout",
     "output_type": "stream",
     "text": [
      "6\n",
      "4\n",
      "10\n"
     ]
    }
   ],
   "source": [
    "count=word_count(\"hii there, how are you doing?\")\n",
    "print(count)\n",
    "count2=word_count(\"we are learing python\")\n",
    "print(count2)\n",
    "print(count+count2)\n"
   ]
  },
  {
   "cell_type": "code",
   "execution_count": 31,
   "metadata": {},
   "outputs": [
    {
     "name": "stdout",
     "output_type": "stream",
     "text": [
      "392.69908169872417\n"
     ]
    }
   ],
   "source": [
    "def area_of_circle(radius):\n",
    "    import math\n",
    "    area = math.pi * radius**2\n",
    "    return area\n",
    "print(area_of_circle(5)+area_of_circle(10))"
   ]
  },
  {
   "cell_type": "code",
   "execution_count": 32,
   "metadata": {},
   "outputs": [],
   "source": [
    "def task(items, action):\n",
    "    if action == 'count':\n",
    "        return len(items)\n",
    "    elif action == 'sum':\n",
    "        return sum(items)\n",
    "    elif action =='mean':\n",
    "        return sum(items)/len(items)\n",
    "    else:\n",
    "        return\"invalid action\""
   ]
  },
  {
   "cell_type": "code",
   "execution_count": 33,
   "metadata": {},
   "outputs": [
    {
     "name": "stdout",
     "output_type": "stream",
     "text": [
      "3 124\n"
     ]
    }
   ],
   "source": [
    "t1 = task([23,45,56],'count')\n",
    "t2 = task([23,45,56],'sum')\n",
    "print(t1,t2)"
   ]
  },
  {
   "cell_type": "code",
   "execution_count": 34,
   "metadata": {},
   "outputs": [],
   "source": [
    "def get_stats(numlist):\n",
    "    size = len(numlist)\n",
    "    total = sum(numlist)\n",
    "    mean = total/size\n",
    "    mx = max(numlist)\n",
    "    mn = min(numlist)\n",
    "    return size, total , mean, mx , mn\n"
   ]
  },
  {
   "cell_type": "code",
   "execution_count": 35,
   "metadata": {},
   "outputs": [
    {
     "data": {
      "text/plain": [
       "(5, 16, 3.2, 6, 1)"
      ]
     },
     "execution_count": 35,
     "metadata": {},
     "output_type": "execute_result"
    }
   ],
   "source": [
    "get_stats([1,3,5,6,1])\n"
   ]
  },
  {
   "cell_type": "code",
   "execution_count": 38,
   "metadata": {},
   "outputs": [],
   "source": [
    "def get_stats(numlist):\n",
    "    size= len(numlist)\n",
    "    total = sum(numlist)\n",
    "    mean = total/size\n",
    "    mx = max(numlist)\n",
    "    mn = min(numlist)\n",
    "    return{\n",
    "            'size': size,'total': total,\n",
    "            'mean':mean,'max':mx, 'min':mn\n",
    "    }\n"
   ]
  },
  {
   "cell_type": "code",
   "execution_count": 43,
   "metadata": {},
   "outputs": [
    {
     "data": {
      "text/plain": [
       "{'size': 5, 'total': 17, 'mean': 3.4, 'max': 6, 'min': 1}"
      ]
     },
     "execution_count": 43,
     "metadata": {},
     "output_type": "execute_result"
    }
   ],
   "source": [
    "get_stats([1,2,3,5,6])\n"
   ]
  },
  {
   "cell_type": "code",
   "execution_count": 42,
   "metadata": {},
   "outputs": [],
   "source": [
    "def adder(a,b,c):\n",
    "    return a+b+c"
   ]
  },
  {
   "cell_type": "code",
   "execution_count": 41,
   "metadata": {},
   "outputs": [
    {
     "name": "stdout",
     "output_type": "stream",
     "text": [
      "5\n",
      "25\n",
      "25\n"
     ]
    }
   ],
   "source": [
    "print(adder(2,1,2))\n",
    "print(adder(b=10,a=5, c=10))\n",
    "print(adder(c=10,b=5,a=10))"
   ]
  },
  {
   "cell_type": "code",
   "execution_count": 44,
   "metadata": {},
   "outputs": [
    {
     "data": {
      "text/plain": [
       "['hello', 'world']"
      ]
     },
     "execution_count": 44,
     "metadata": {},
     "output_type": "execute_result"
    }
   ],
   "source": [
    "\"hello world\".split()"
   ]
  },
  {
   "cell_type": "code",
   "execution_count": 45,
   "metadata": {},
   "outputs": [],
   "source": [
    "def adder_v2(a,b,c=10):\n",
    "    return a+b+c"
   ]
  },
  {
   "cell_type": "code",
   "execution_count": 46,
   "metadata": {},
   "outputs": [
    {
     "name": "stdout",
     "output_type": "stream",
     "text": [
      "40\n",
      "50\n",
      "47\n",
      "82\n"
     ]
    }
   ],
   "source": [
    "print(adder_v2(10,20))\n",
    "print(adder_v2(10,20,20))\n",
    "print(adder_v2(10,21,c=16))\n",
    "print(adder_v2(a=10,b=22,c=50))"
   ]
  },
  {
   "cell_type": "code",
   "execution_count": null,
   "metadata": {},
   "outputs": [],
   "source": []
  }
 ],
 "metadata": {
  "kernelspec": {
   "display_name": "base",
   "language": "python",
   "name": "python3"
  },
  "language_info": {
   "codemirror_mode": {
    "name": "ipython",
    "version": 3
   },
   "file_extension": ".py",
   "mimetype": "text/x-python",
   "name": "python",
   "nbconvert_exporter": "python",
   "pygments_lexer": "ipython3",
   "version": "3.12.3"
  }
 },
 "nbformat": 4,
 "nbformat_minor": 2
}
