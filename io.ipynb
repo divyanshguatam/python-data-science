{
 "cells": [
  {
   "cell_type": "code",
   "execution_count": 1,
   "metadata": {},
   "outputs": [
    {
     "data": {
      "text/plain": [
       "6.25"
      ]
     },
     "execution_count": 1,
     "metadata": {},
     "output_type": "execute_result"
    }
   ],
   "source": [
    "p = 100\n",
    "r = 1.25\n",
    "t = 5\n",
    "si =p*r*t/100\n",
    "si\n"
   ]
  },
  {
   "cell_type": "code",
   "execution_count": 2,
   "metadata": {},
   "outputs": [],
   "source": [
    "name = input('enter your name:')\n",
    "city = input('enter your city')\n",
    "fruit = input('enter your favorite color')\n",
    "luckynum = input('enter your lucky number')\n"
   ]
  },
  {
   "cell_type": "code",
   "execution_count": null,
   "metadata": {},
   "outputs": [
    {
     "name": "stdout",
     "output_type": "stream",
     "text": [
      "1200200\n"
     ]
    }
   ],
   "source": [
    "a = input('enter a number')\n",
    "b = input('enter a number')\n",
    "print(a+b)"
   ]
  },
  {
   "cell_type": "code",
   "execution_count": null,
   "metadata": {},
   "outputs": [],
   "source": [
    "typecasting\n",
    "\n",
    "from ine data type => another\n",
    "str => int(varible) => int"
   ]
  },
  {
   "cell_type": "code",
   "execution_count": null,
   "metadata": {},
   "outputs": [
    {
     "data": {
      "text/plain": [
       "12.25"
      ]
     },
     "execution_count": 5,
     "metadata": {},
     "output_type": "execute_result"
    }
   ],
   "source": [
    "float(\"12.25\")"
   ]
  },
  {
   "cell_type": "code",
   "execution_count": null,
   "metadata": {},
   "outputs": [
    {
     "name": "stdout",
     "output_type": "stream",
     "text": [
      "<class 'int'>\n",
      "<class 'str'>\n",
      "<class 'str'>\n",
      "<class 'float'>\n"
     ]
    }
   ],
   "source": [
    "a = 10\n",
    "b = \"20a\"\n",
    "c = \"2.5\"\n",
    "d = 10.25\n",
    "print(type(a))\n",
    "print(type(b))\n",
    "print(type(c))\n",
    "print(type(d))"
   ]
  },
  {
   "cell_type": "code",
   "execution_count": null,
   "metadata": {},
   "outputs": [
    {
     "name": "stdout",
     "output_type": "stream",
     "text": [
      "10.0\n",
      "10\n",
      "True\n"
     ]
    }
   ],
   "source": [
    "print(float(a))\n",
    "print(str(a))\n",
    "print(bool(a))\n"
   ]
  },
  {
   "cell_type": "code",
   "execution_count": null,
   "metadata": {},
   "outputs": [
    {
     "name": "stdout",
     "output_type": "stream",
     "text": [
      "45\n"
     ]
    }
   ],
   "source": [
    "a = input('enter a number')\n",
    "b = input('enter a number')\n",
    "c = int(a)+int(b)\n",
    "print(c)"
   ]
  },
  {
   "cell_type": "code",
   "execution_count": null,
   "metadata": {},
   "outputs": [
    {
     "name": "stdout",
     "output_type": "stream",
     "text": [
      "104\n"
     ]
    }
   ],
   "source": [
    "a = int(input('enter a number'))\n",
    "b = int(input('enter a number'))\n",
    "c = a+b \n",
    "print(c)"
   ]
  },
  {
   "cell_type": "code",
   "execution_count": null,
   "metadata": {},
   "outputs": [
    {
     "name": "stdout",
     "output_type": "stream",
     "text": [
      "54.0\n"
     ]
    }
   ],
   "source": [
    "p = int(input('enter the principal'))\n",
    "r = int(input('enter the rate'))\n",
    "t = int(input('enter the time'))\n",
    "si = p*r*t/100\n",
    "print(si)"
   ]
  },
  {
   "cell_type": "code",
   "execution_count": null,
   "metadata": {},
   "outputs": [
    {
     "name": "stdout",
     "output_type": "stream",
     "text": [
      "6000000000.0\n"
     ]
    }
   ],
   "source": [
    "p =int(input('enter the principal'))\n",
    "r = int(input('enter the rate'))\n",
    "t =int(input('enter the time'))\n",
    "si = p*r*t/100\n",
    "print(si)"
   ]
  },
  {
   "cell_type": "markdown",
   "metadata": {},
   "source": [
    " answer: 12+3=9\n",
    " "
   ]
  },
  {
   "cell_type": "code",
   "execution_count": null,
   "metadata": {},
   "outputs": [
    {
     "name": "stdout",
     "output_type": "stream",
     "text": [
      "answer 13 - 2 = 11\n"
     ]
    }
   ],
   "source": [
    "a = 13\n",
    "b = 2\n",
    "c = a-b\n",
    "print(\"answer\",a,'-',b,'=',c)"
   ]
  },
  {
   "cell_type": "code",
   "execution_count": null,
   "metadata": {},
   "outputs": [
    {
     "name": "stdout",
     "output_type": "stream",
     "text": [
      "simple interest calculator\n",
      "principal= 10 rs\n",
      "rate= 15 %\n",
      "time= 4 yrs\n",
      "_______________\n",
      "simple interest = 6.0\n"
     ]
    }
   ],
   "source": [
    "p =int(input('enter the principal'))\n",
    "r = int(input('enter the rate'))\n",
    "t =int(input('enter the time'))\n",
    "si = p*r*t/100\n",
    "print(\"simple interest calculator\")\n",
    "print(\"principal=\",p,'rs')\n",
    "print(\"rate=\",r,'%')\n",
    "print(\"time=\",t,'yrs')\n",
    "print('_'*15)\n",
    "print(\"simple interest =\",si)"
   ]
  },
  {
   "cell_type": "code",
   "execution_count": null,
   "metadata": {},
   "outputs": [
    {
     "name": "stdout",
     "output_type": "stream",
     "text": [
      "13-2-11-10.25\n"
     ]
    }
   ],
   "source": [
    "print(a,b,c,d, sep=\"-\")"
   ]
  },
  {
   "cell_type": "code",
   "execution_count": null,
   "metadata": {},
   "outputs": [
    {
     "name": "stdout",
     "output_type": "stream",
     "text": [
      "h-e-l-l-o\n",
      "apple,banana,cherry\n"
     ]
    }
   ],
   "source": [
    "print(*'hello',sep='-') #advance version(not to be discussed)\n",
    "fruits = ['apple','banana','cherry']\n",
    "print(*fruits, sep=',') #advance version (not to be disccused)"
   ]
  },
  {
   "cell_type": "markdown",
   "metadata": {},
   "source": [
    "string interpolation for formatted output\n"
   ]
  },
  {
   "cell_type": "code",
   "execution_count": null,
   "metadata": {},
   "outputs": [],
   "source": [
    "a = 12\n",
    "b = 5\n",
    "c = a-b\n",
    "print(\"answer:\",a, '-',b,'=',c)\n",
    "print(f)"
   ]
  },
  {
   "cell_type": "code",
   "execution_count": null,
   "metadata": {},
   "outputs": [
    {
     "name": "stdout",
     "output_type": "stream",
     "text": [
      "area of triangle\n",
      "base = 12 cm\n",
      "height=14 cm\n",
      "-*15\n",
      "area = 84.0 cm\n"
     ]
    }
   ],
   "source": [
    "# area of trangle\n",
    "b = int(input(\"enter the base of the triangle\"))\n",
    "\n",
    "h = int(input(\"enter the height of the trainagle\"))\n",
    "area = 1/2*b*h\n",
    "print(\"area of triangle\")\n",
    "print(f'base = {b} cm')\n",
    "print(f'height={h} cm')\n",
    "print('-*15')\n",
    "print(f'area = {area} cm')"
   ]
  },
  {
   "cell_type": "markdown",
   "metadata": {},
   "source": [
    "write a program rectangle\n"
   ]
  },
  {
   "cell_type": "code",
   "execution_count": null,
   "metadata": {},
   "outputs": [
    {
     "name": "stdout",
     "output_type": "stream",
     "text": [
      "area of rectangle\n",
      "length = 200 cm\n",
      "width=400 cm\n",
      "-*15\n",
      "area = 80000 cm\n"
     ]
    }
   ],
   "source": [
    "# area of rectangle\n",
    "l = int(input(\"enter tha length of reactangle\"))\n",
    "w = int(input(\"enter the width of reactangle\"))\n",
    "area = l*w\n",
    "print(\"area of rectangle\")\n",
    "print(f'length = {l} cm')\n",
    "print(f'width={w} cm')\n",
    "print('-*15')\n",
    "print(f'area = {area} cm')\n",
    "\n"
   ]
  },
  {
   "cell_type": "code",
   "execution_count": 3,
   "metadata": {},
   "outputs": [
    {
     "name": "stdout",
     "output_type": "stream",
     "text": [
      "26\n"
     ]
    }
   ],
   "source": [
    "a=int(input(\"fn\"))\n",
    "b=int(input(\"fsn\"))\n",
    "c=a+b\n",
    "print(c)"
   ]
  },
  {
   "cell_type": "markdown",
   "metadata": {},
   "source": [
    "write a program area of cirle\n"
   ]
  },
  {
   "cell_type": "code",
   "execution_count": 5,
   "metadata": {},
   "outputs": [
    {
     "name": "stdout",
     "output_type": "stream",
     "text": [
      "area of circle\n",
      "pi = 5 cm\n",
      "redius=4 cm\n",
      "-*15\n",
      "area = 80 cm\n"
     ]
    }
   ],
   "source": [
    "# area of cirle\n",
    "p = int(input(\"enter the pi  arae of circle\"))\n",
    "R = int(input(\"enter the radius area of circle\"))\n",
    "area = p*R*R\n",
    "print(\"area of circle\")\n",
    "print(f'pi = {p} cm')\n",
    "print(f'redius={R} cm')\n",
    "print('-*15')\n",
    "print(f'area = {area} cm')\n"
   ]
  },
  {
   "cell_type": "code",
   "execution_count": 1,
   "metadata": {},
   "outputs": [
    {
     "name": "stdout",
     "output_type": "stream",
     "text": [
      "3\n",
      "3.3\n",
      "3.33\n",
      "3.333\n"
     ]
    }
   ],
   "source": [
    "# round function should be used with expression\n",
    "print(round(10/3))\n",
    "print(round(10/3,1))\n",
    "print(round(10/3,2))\n",
    "print(round(10/3,3))"
   ]
  },
  {
   "cell_type": "code",
   "execution_count": null,
   "metadata": {},
   "outputs": [],
   "source": [
    "a = 10\n",
    "b = 7\n",
    "print(f'{a}divided by {b} is {a/b}')\n",
    "print(f'{a}divided by {b} is {a/b:.1f}')\n",
    "print(f'{a}divided by {b} is {a/b:.2f')"
   ]
  },
  {
   "cell_type": "code",
   "execution_count": 4,
   "metadata": {},
   "outputs": [
    {
     "name": "stdout",
     "output_type": "stream",
     "text": [
      "the fina;l emipre                        | brandon sandersom    |499\n",
      "the art of war                           | sun tzu              | 239\n",
      "stormlight archives: the way of oking    |brandon snaderson    | 550 \n"
     ]
    }
   ],
   "source": [
    "# text alignment\n",
    "n1 = \"the fina;l emipre\"\n",
    "a1 = 'brandon sandersom'\n",
    "p1 = 499\n",
    "n2 ='the art of war'\n",
    "a2 = 'sun tzu'\n",
    "p2 = 239\n",
    "n3 = 'stormlight archives: the way of oking'\n",
    "a3 = 'brandon snaderson'\n",
    "p3 = 550\n",
    "\n",
    "print(f'{n1:40} | {a1:20} |{p1}')\n",
    "print(f'{n2:40} | {a2:20} | {p2}')\n",
    "print(f'{n3:40} |{a3:20} | {p3} ')"
   ]
  },
  {
   "cell_type": "markdown",
   "metadata": {},
   "source": []
  }
 ],
 "metadata": {
  "kernelspec": {
   "display_name": "base",
   "language": "python",
   "name": "python3"
  },
  "language_info": {
   "codemirror_mode": {
    "name": "ipython",
    "version": 3
   },
   "file_extension": ".py",
   "mimetype": "text/x-python",
   "name": "python",
   "nbconvert_exporter": "python",
   "pygments_lexer": "ipython3",
   "version": "3.12.3"
  }
 },
 "nbformat": 4,
 "nbformat_minor": 2
}
