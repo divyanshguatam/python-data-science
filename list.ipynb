{
 "cells": [
  {
   "cell_type": "code",
   "execution_count": null,
   "metadata": {},
   "outputs": [],
   "source": [
    "a = [1,2,3,]\n",
    "print(a ,type)\n",
    "names = ['alice', 'bob','charlie']\n",
    "print(names,type(names))\n",
    "data = ['apple',50,'mango',100,'orange',70]\n",
    "nested_list = [[1,2,3.,[4,5,6],[7,8]]]\n",
    "\n"
   ]
  },
  {
   "cell_type": "code",
   "execution_count": 5,
   "metadata": {},
   "outputs": [
    {
     "name": "stdout",
     "output_type": "stream",
     "text": [
      "first five = [11, 12, 13, 14, 15]\n",
      "last five = [11, 12, 13, 14]\n",
      "last five = [11, 12, 13, 14, 15, 16, 17, 18]\n",
      "first five = []\n",
      "expect first  and last 2=  [13, 14, 15, 16, 17]\n",
      "reverse list = [19.2, 18, 17, 16, 15, 14, 13, 12, 11]\n",
      "all even indexes= [11, 13, 15, 17, 19.2]\n",
      "all odd indexes = [12, 14, 16, 18]\n"
     ]
    }
   ],
   "source": [
    "n = [11,12,13,14,15,16,17,18,19.20]\n",
    "print('first five =' ,n[:5])\n",
    "print('last five =', n[:-5])\n",
    "print('last five =', n[:-1])\n",
    "print('first five =', n[:0])\n",
    "print('expect first  and last 2= ',n[2:-2])\n",
    "print('reverse list =',n[::-1])\n",
    "print('all even indexes=',n[::2])\n",
    "print('all odd indexes =',n[1::2])"
   ]
  },
  {
   "cell_type": "code",
   "execution_count": 8,
   "metadata": {},
   "outputs": [
    {
     "name": "stdout",
     "output_type": "stream",
     "text": [
      "[200, 12, 13, 14, 15, 100, 17, 18, 19.2]\n",
      "[200, 12, 13, 14, 15, 100, 17, 18, 19.2]\n"
     ]
    }
   ],
   "source": [
    "n[5] = 100 # update\n",
    "print(n)\n",
    "n[0] = 200\n",
    "print(n)"
   ]
  },
  {
   "cell_type": "code",
   "execution_count": 9,
   "metadata": {},
   "outputs": [
    {
     "name": "stdout",
     "output_type": "stream",
     "text": [
      "['custred apple', 'mango', 'orange']\n",
      "['custred apple', 'jaicfruit', 'orange']\n"
     ]
    }
   ],
   "source": [
    "fruits =['apple','mango','orange']\n",
    "fruits[0] = 'custred apple'\n",
    "print(fruits)\n",
    "fruits [1] = 'jaicfruit'\n",
    "print(fruits)"
   ]
  },
  {
   "cell_type": "code",
   "execution_count": 11,
   "metadata": {},
   "outputs": [
    {
     "name": "stdout",
     "output_type": "stream",
     "text": [
      "<class 'list'>\n",
      "0\n",
      "['star wars', 'kaliki', 'war', 'the core', 'mahi', 'jaumanji']\n",
      "6\n"
     ]
    }
   ],
   "source": [
    "movies = []\n",
    "print(type(movies))\n",
    "print(len(movies))\n",
    "movies.append(\"star wars\")\n",
    "movies.append(\"kaliki\")\n",
    "movies.append(\"war\")\n",
    "movies.append(\"the core\")\n",
    "movies.append(\"mahi\")\n",
    "movies.append(\"jaumanji\")\n",
    "print(movies)\n",
    "print(len(movies))"
   ]
  },
  {
   "cell_type": "code",
   "execution_count": 18,
   "metadata": {},
   "outputs": [
    {
     "name": "stdout",
     "output_type": "stream",
     "text": [
      "['star and furies', '2 fast and 2 furious', 'fast and furious: tokyo drift', 'fast5', 'fast and furious 6']\n"
     ]
    }
   ],
   "source": [
    "ff = ['star and furies',\n",
    "      '2 fast and 2 furious',\n",
    "      'fast and furious: tokyo drift',\n",
    "      'fast5']\n",
    "ff.append(\"fast and furious 6\")\n",
    "print(ff)\n",
    "ff.insert(3, 'fast anf furious 4')"
   ]
  },
  {
   "cell_type": "code",
   "execution_count": 20,
   "metadata": {},
   "outputs": [
    {
     "name": "stdout",
     "output_type": "stream",
     "text": [
      "[1, 2, 3, 4, 4, 5, 6, 7, 8, 9]\n",
      "[1, 2, 3, 4, 5, 4, 5, 6, 7, 8, 9]\n",
      "[1, 2, 3, 4, 5, 4, 5, 8, 6, 7, 8, 9]\n"
     ]
    }
   ],
   "source": [
    "n = [1,2,3,4,5,6,7,8,9]\n",
    "n.insert(3,4) #on 3rd index insert value = 4\n",
    "print(n)\n",
    "n.insert(4,5) # on 5th index, insert value =5\n",
    "print(n)\n",
    "n.insert(7,8) #on 8th index , insert value =8\n",
    "print(n)"
   ]
  },
  {
   "cell_type": "code",
   "execution_count": 22,
   "metadata": {},
   "outputs": [
    {
     "name": "stdout",
     "output_type": "stream",
     "text": [
      "[1, 2, 3, 4, 5, 6]\n",
      "[4, 5, 6]\n",
      "[4, 5, 6, 7, 8, 9]\n",
      "[7, 8, 9, 1, 2, 3, 4, 5]\n"
     ]
    }
   ],
   "source": [
    "# adding a list in a another list\n",
    "l1 = [1,2,3]\n",
    "l2 = [4,5,6]\n",
    "l3 = [7,8,9]\n",
    "l1.extend(l2)\n",
    "print(l1)\n",
    "print(l2)\n",
    "l2.extend(l3)\n",
    "print(l2)\n",
    "l3.extend([1,2,3,4,5])\n",
    "print(l3)\n"
   ]
  },
  {
   "cell_type": "code",
   "execution_count": null,
   "metadata": {},
   "outputs": [],
   "source": []
  }
 ],
 "metadata": {
  "kernelspec": {
   "display_name": "base",
   "language": "python",
   "name": "python3"
  },
  "language_info": {
   "codemirror_mode": {
    "name": "ipython",
    "version": 3
   },
   "file_extension": ".py",
   "mimetype": "text/x-python",
   "name": "python",
   "nbconvert_exporter": "python",
   "pygments_lexer": "ipython3",
   "version": "3.12.3"
  }
 },
 "nbformat": 4,
 "nbformat_minor": 2
}
