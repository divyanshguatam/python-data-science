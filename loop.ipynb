{
 "cells": [
  {
   "cell_type": "markdown",
   "metadata": {},
   "source": [
    "loop in python\n",
    "  1. for loop -> step bassed loop\n",
    "2.  while loop -> condition bassed loop\n",
    " syntax:\n",
    " for temp in iterable:\n",
    " # code block\n",
    " '''\n",
    " '''python\n",
    " while condition \n",
    " # code block\n",
    " '''\n",
    " *iterable is any object that has children/item to iterable over\n",
    " - string\n",
    " - list\n",
    " - tuple \n",
    " - set\n",
    " - dictionary\n",
    " - genrator\n",
    " - range\n",
    "\n",
    "\n",
    "  @ loop control\n",
    "  \n",
    "\n"
   ]
  },
  {
   "cell_type": "code",
   "execution_count": 2,
   "metadata": {},
   "outputs": [
    {
     "data": {
      "text/plain": [
       "[0, 1, 2, 3, 4, 5, 6, 7, 8, 9]"
      ]
     },
     "execution_count": 2,
     "metadata": {},
     "output_type": "execute_result"
    }
   ],
   "source": [
    "list(range(10))"
   ]
  },
  {
   "cell_type": "code",
   "execution_count": 1,
   "metadata": {},
   "outputs": [
    {
     "name": "stdout",
     "output_type": "stream",
     "text": [
      "0\n",
      "1\n",
      "2\n",
      "3\n",
      "4\n"
     ]
    }
   ],
   "source": [
    "for i in range(5):\n",
    "    print(i)"
   ]
  },
  {
   "cell_type": "code",
   "execution_count": 3,
   "metadata": {},
   "outputs": [
    {
     "name": "stdout",
     "output_type": "stream",
     "text": [
      "10\n",
      "11\n",
      "12\n",
      "13\n",
      "14\n",
      "15\n",
      "16\n",
      "17\n",
      "18\n",
      "19\n"
     ]
    }
   ],
   "source": [
    "for i in range(10,20):\n",
    "    print(i)"
   ]
  },
  {
   "cell_type": "code",
   "execution_count": 6,
   "metadata": {},
   "outputs": [
    {
     "name": "stdout",
     "output_type": "stream",
     "text": [
      "1,3,5,7,9,"
     ]
    }
   ],
   "source": [
    "for i in range (1,11,2):\n",
    "    print(i, end=',')"
   ]
  },
  {
   "cell_type": "code",
   "execution_count": 8,
   "metadata": {},
   "outputs": [
    {
     "name": "stdout",
     "output_type": "stream",
     "text": [
      "5,4,3,2,1,0,-1,-2,-3,-4,-5,"
     ]
    }
   ],
   "source": [
    "for i in range(5, -6,-1):\n",
    "    print(i, end= ',')"
   ]
  },
  {
   "cell_type": "code",
   "execution_count": 9,
   "metadata": {},
   "outputs": [
    {
     "name": "stdout",
     "output_type": "stream",
     "text": [
      "=. d\n",
      "=. i\n",
      "=. v\n",
      "=. y\n",
      "=. a\n",
      "=. n\n",
      "=. s\n",
      "=. h\n"
     ]
    }
   ],
   "source": [
    "word = 'divyansh'\n",
    "for char in word:\n",
    "    print(\"=.\",char)"
   ]
  },
  {
   "cell_type": "code",
   "execution_count": 10,
   "metadata": {},
   "outputs": [
    {
     "name": "stdout",
     "output_type": "stream",
     "text": [
      "p\n",
      "y\n",
      "t\n",
      "h\n",
      "o\n",
      "n\n"
     ]
    }
   ],
   "source": [
    "data = 'p_y@!t@h#on'\n",
    "for i in data:\n",
    "    if i.isalpha():\n",
    "        print(i)"
   ]
  },
  {
   "cell_type": "code",
   "execution_count": 11,
   "metadata": {},
   "outputs": [
    {
     "name": "stdout",
     "output_type": "stream",
     "text": [
      "-25\n",
      "-20\n",
      "-15\n",
      "-10\n",
      "-5\n",
      "0\n",
      "5\n",
      "10\n",
      "15\n",
      "20\n",
      "25\n"
     ]
    }
   ],
   "source": [
    "nums = [-5,-4,-3,-2,-1,0,1,2,3,4,5]\n",
    "for num in nums:\n",
    "    print(num*5)"
   ]
  },
  {
   "cell_type": "code",
   "execution_count": 12,
   "metadata": {},
   "outputs": [
    {
     "name": "stdout",
     "output_type": "stream",
     "text": [
      "apple 5\n",
      "banana 6\n",
      "cheery 6\n",
      "fig 3\n",
      "dragonfruit 11\n",
      "eggplant 8\n"
     ]
    }
   ],
   "source": [
    "fruits = ['apple', 'banana','cheery','fig','dragonfruit', 'eggplant']\n",
    "for fruit in fruits:\n",
    "    print(fruit,len(fruit))\n"
   ]
  },
  {
   "cell_type": "code",
   "execution_count": null,
   "metadata": {},
   "outputs": [],
   "source": []
  },
  {
   "cell_type": "code",
   "execution_count": 15,
   "metadata": {},
   "outputs": [
    {
     "name": "stdout",
     "output_type": "stream",
     "text": [
      "apple\n",
      "banana\n",
      "cheery\n",
      "loop completed\n"
     ]
    }
   ],
   "source": [
    "for i in fruits:\n",
    "    if i == 'fig':\n",
    "        break\n",
    "    print(i)\n",
    "print('loop completed')"
   ]
  },
  {
   "cell_type": "code",
   "execution_count": 1,
   "metadata": {},
   "outputs": [
    {
     "name": "stdout",
     "output_type": "stream",
     "text": [
      "red apple\n",
      "red banana\n",
      "big apple\n",
      "big banana\n",
      "tasty apple\n",
      "tasty banana\n"
     ]
    }
   ],
   "source": [
    "adj = [\"red\", \"big\",\"tasty\"]\n",
    "fruits = [\"apple\", \"banana\"]\n",
    "for x in adj:\n",
    "    for y in fruits:\n",
    "        print(x,y)"
   ]
  },
  {
   "cell_type": "code",
   "execution_count": 4,
   "metadata": {},
   "outputs": [
    {
     "name": "stdout",
     "output_type": "stream",
     "text": [
      "savita\n",
      "harshit\n",
      "muskaan\n",
      "ritik\n",
      "irtika\n"
     ]
    }
   ],
   "source": [
    "names = ['savita','harshit','muskaan','ritik','irtika']\n",
    "for i in name:\n",
    "    print(i)"
   ]
  },
  {
   "cell_type": "code",
   "execution_count": 3,
   "metadata": {},
   "outputs": [
    {
     "name": "stdout",
     "output_type": "stream",
     "text": [
      "0 savita\n",
      "1 harshit\n",
      "2 muskaan\n",
      "3 ritik\n",
      "4 irtika\n"
     ]
    }
   ],
   "source": [
    "for i,v in enumerate(name):\n",
    "    print(i,v)"
   ]
  },
  {
   "cell_type": "code",
   "execution_count": 5,
   "metadata": {},
   "outputs": [
    {
     "name": "stdout",
     "output_type": "stream",
     "text": [
      "savita\n",
      "harshit\n",
      "muskaan\n"
     ]
    }
   ],
   "source": [
    "for i, v in enumerate(names):\n",
    "    if i==3:\n",
    "        break\n",
    "    print(v)\n",
    "    \n"
   ]
  },
  {
   "cell_type": "code",
   "execution_count": 10,
   "metadata": {},
   "outputs": [
    {
     "name": "stdout",
     "output_type": "stream",
     "text": [
      "0 savita\n",
      "2 muskaan\n",
      "4 irtika\n"
     ]
    }
   ],
   "source": [
    "for i, v in enumerate(names):\n",
    "    if i%2==0:\n",
    "        print(i,v)"
   ]
  },
  {
   "cell_type": "code",
   "execution_count": 12,
   "metadata": {},
   "outputs": [
    {
     "name": "stdout",
     "output_type": "stream",
     "text": [
      "savita\n",
      "muskaan\n",
      "irtika\n"
     ]
    }
   ],
   "source": [
    "for i, v in enumerate(names):\n",
    "    if i%2 == 0:\n",
    "        print(v)"
   ]
  },
  {
   "cell_type": "code",
   "execution_count": 15,
   "metadata": {},
   "outputs": [
    {
     "name": "stdout",
     "output_type": "stream",
     "text": [
      "1 6\n",
      "1+6 = 7\n",
      "2 7\n",
      "2+7 = 9\n",
      "3 8\n",
      "3+8 = 11\n",
      "4 9\n",
      "4+9 = 13\n",
      "5 10\n",
      "5+10 = 15\n"
     ]
    }
   ],
   "source": [
    "x = [1,2,3,4,5]\n",
    "y = [6,7,8,9,10]\n",
    "for i,j in zip(x,y):\n",
    "    print(i,j)\n",
    "    print(f'{i}+{j} = {i+j}')"
   ]
  },
  {
   "cell_type": "code",
   "execution_count": 18,
   "metadata": {},
   "outputs": [
    {
     "name": "stdout",
     "output_type": "stream",
     "text": [
      "1 4 7\n",
      "1+4+7=12\n",
      "2 5 8\n",
      "2+5+8=15\n",
      "3 6 9\n",
      "3+6+9=18\n"
     ]
    }
   ],
   "source": [
    "a = [1,2,3]\n",
    "b = [4,5,6]\n",
    "c = [7,8,9]\n",
    "for i,j,k in zip(a,b,c):\n",
    "    print(i,j,k)\n",
    "    print(f'{i}+{j}+{k}={i+j+k}')"
   ]
  },
  {
   "cell_type": "code",
   "execution_count": 25,
   "metadata": {},
   "outputs": [
    {
     "name": "stdout",
     "output_type": "stream",
     "text": [
      "apple     | 100 | 3 |  300\n",
      "banana    | 200 | 2 |  400\n",
      "cherry    | 300 | 5 | 1500\n",
      "______________________________\n",
      "total                2200\n"
     ]
    }
   ],
   "source": [
    "name =['apple','banana','cherry']\n",
    "price = [100,200,300]\n",
    "qty = [3,2,5]\n",
    "total = 0\n",
    "for n,p,q in zip(name,price,qty):\n",
    "    print(f'{n:10}|{p:^5}|{q:^3}|{p*q:>5}')\n",
    "    total += p*q\n",
    "\n",
    "print('_'*30)\n",
    "print(f\"total{total:20}\")    \n",
    "    "
   ]
  },
  {
   "cell_type": "code",
   "execution_count": 34,
   "metadata": {},
   "outputs": [
    {
     "name": "stdout",
     "output_type": "stream",
     "text": [
      "0\n",
      "1\n",
      "2\n",
      "3\n",
      "4\n",
      "loop completed succesfully\n"
     ]
    }
   ],
   "source": [
    "for i in range(5):\n",
    "    print(i)\n",
    "    if i == 13:\n",
    "        break\n",
    "else:\n",
    "        print('loop completed succesfully')"
   ]
  },
  {
   "cell_type": "code",
   "execution_count": 33,
   "metadata": {},
   "outputs": [
    {
     "name": "stdout",
     "output_type": "stream",
     "text": [
      "1\n",
      "2\n",
      "3\n",
      "4\n",
      "5\n",
      "6\n",
      "7\n",
      "8\n",
      "9\n",
      "10\n",
      "well done\n"
     ]
    }
   ],
   "source": [
    "n = int(input(\"enter a stop value:\"))\n",
    "for i in range(1,11):\n",
    "    if i == n:\n",
    "        print(\"loop termianted\")\n",
    "    print(i)\n",
    "else:\n",
    "        print(\"well done\")"
   ]
  },
  {
   "cell_type": "code",
   "execution_count": 43,
   "metadata": {},
   "outputs": [
    {
     "name": "stdout",
     "output_type": "stream",
     "text": [
      "=> 31459%2 == False\n",
      "=> 31459%3 == False\n",
      "=> 31459%4 == False\n",
      "=> 31459%5 == False\n",
      "=> 31459%6 == False\n",
      "=> 31459%7 == False\n",
      "=> 31459%8 == False\n",
      "=> 31459%9 == False\n",
      "=> 31459%10 == False\n",
      "=> 31459%11 == False\n",
      "=> 31459%12 == False\n",
      "=> 31459%13 == False\n",
      "=> 31459%14 == False\n",
      "=> 31459%15 == False\n",
      "=> 31459%16 == False\n",
      "=> 31459%17 == False\n",
      "=> 31459%18 == False\n",
      "=> 31459%19 == False\n",
      "=> 31459%20 == False\n",
      "=> 31459%21 == False\n",
      "=> 31459%22 == False\n",
      "=> 31459%23 == False\n",
      "=> 31459%24 == False\n",
      "=> 31459%25 == False\n",
      "=> 31459%26 == False\n",
      "=> 31459%27 == False\n",
      "=> 31459%28 == False\n",
      "=> 31459%29 == False\n",
      "=> 31459%30 == False\n",
      "=> 31459%31 == False\n",
      "=> 31459%32 == False\n",
      "=> 31459%33 == False\n",
      "=> 31459%34 == False\n",
      "=> 31459%35 == False\n",
      "=> 31459%36 == False\n",
      "=> 31459%37 == False\n",
      "=> 31459%38 == False\n",
      "=> 31459%39 == False\n",
      "=> 31459%40 == False\n",
      "=> 31459%41 == False\n",
      "=> 31459%42 == False\n",
      "=> 31459%43 == False\n",
      "=> 31459%44 == False\n",
      "=> 31459%45 == False\n",
      "=> 31459%46 == False\n",
      "=> 31459%47 == False\n",
      "=> 31459%48 == False\n",
      "=> 31459%49 == False\n",
      "=> 31459%50 == False\n",
      "=> 31459%51 == False\n",
      "=> 31459%52 == False\n",
      "=> 31459%53 == False\n",
      "=> 31459%54 == False\n",
      "=> 31459%55 == False\n",
      "=> 31459%56 == False\n",
      "=> 31459%57 == False\n",
      "=> 31459%58 == False\n",
      "=> 31459%59 == False\n",
      "=> 31459%60 == False\n",
      "=> 31459%61 == False\n",
      "=> 31459%62 == False\n",
      "=> 31459%63 == False\n",
      "=> 31459%64 == False\n",
      "=> 31459%65 == False\n",
      "=> 31459%66 == False\n",
      "=> 31459%67 == False\n",
      "=> 31459%68 == False\n",
      "=> 31459%69 == False\n",
      "=> 31459%70 == False\n",
      "=> 31459%71 == False\n",
      "=> 31459%72 == False\n",
      "=> 31459%73 == False\n",
      "=> 31459%74 == False\n",
      "=> 31459%75 == False\n",
      "=> 31459%76 == False\n",
      "=> 31459%77 == False\n",
      "=> 31459%78 == False\n",
      "=> 31459%79 == False\n",
      "=> 31459%80 == False\n",
      "=> 31459%81 == False\n",
      "=> 31459%82 == False\n",
      "=> 31459%83 == False\n",
      "=> 31459%84 == False\n",
      "=> 31459%85 == False\n",
      "=> 31459%86 == False\n",
      "=> 31459%87 == False\n",
      "=> 31459%88 == False\n",
      "=> 31459%89 == False\n",
      "=> 31459%90 == False\n",
      "=> 31459%91 == False\n",
      "=> 31459%92 == False\n",
      "=> 31459%93 == False\n",
      "=> 31459%94 == False\n",
      "=> 31459%95 == False\n",
      "=> 31459%96 == False\n",
      "=> 31459%97 == False\n",
      "=> 31459%98 == False\n",
      "=> 31459%99 == False\n",
      "=> 31459%100 == False\n",
      "=> 31459%101 == False\n",
      "=> 31459%102 == False\n",
      "=> 31459%103 == False\n",
      "=> 31459%104 == False\n",
      "=> 31459%105 == False\n",
      "=> 31459%106 == False\n",
      "=> 31459%107 == False\n",
      "=> 31459%108 == False\n",
      "=> 31459%109 == False\n",
      "=> 31459%110 == False\n",
      "=> 31459%111 == False\n",
      "=> 31459%112 == False\n",
      "=> 31459%113 == False\n",
      "=> 31459%114 == False\n",
      "=> 31459%115 == False\n",
      "=> 31459%116 == False\n",
      "=> 31459%117 == False\n",
      "=> 31459%118 == False\n",
      "=> 31459%119 == False\n",
      "=> 31459%120 == False\n",
      "=> 31459%121 == False\n",
      "=> 31459%122 == False\n",
      "=> 31459%123 == False\n",
      "=> 31459%124 == False\n",
      "=> 31459%125 == False\n",
      "=> 31459%126 == False\n",
      "=> 31459%127 == False\n",
      "=> 31459%128 == False\n",
      "=> 31459%129 == False\n",
      "=> 31459%130 == False\n",
      "=> 31459%131 == False\n",
      "=> 31459%132 == False\n",
      "=> 31459%133 == False\n",
      "=> 31459%134 == False\n",
      "=> 31459%135 == False\n",
      "=> 31459%136 == False\n",
      "=> 31459%137 == False\n",
      "=> 31459%138 == False\n",
      "=> 31459%139 == False\n",
      "=> 31459%140 == False\n",
      "=> 31459%141 == False\n",
      "=> 31459%142 == False\n",
      "=> 31459%143 == False\n",
      "=> 31459%144 == False\n",
      "=> 31459%145 == False\n",
      "=> 31459%146 == False\n",
      "=> 31459%147 == False\n",
      "=> 31459%148 == False\n",
      "=> 31459%149 == False\n",
      "=> 31459%150 == False\n",
      "=> 31459%151 == False\n",
      "=> 31459%152 == False\n",
      "=> 31459%153 == False\n",
      "=> 31459%154 == False\n",
      "=> 31459%155 == False\n",
      "=> 31459%156 == False\n",
      "=> 31459%157 == False\n",
      "=> 31459%158 == False\n",
      "=> 31459%159 == False\n",
      "=> 31459%160 == False\n",
      "=> 31459%161 == False\n",
      "=> 31459%162 == False\n",
      "=> 31459%163 == True\n",
      "not prime\n"
     ]
    }
   ],
   "source": [
    "# prime number\n",
    "n = int(input(\"enter a nummber\"))\n",
    "for i in range(2,n):\n",
    "    print(f\"=> {n}%{i} == {n%i==0}\")\n",
    "    if n%i==0:\n",
    "        print(\"not prime\")\n",
    "        break\n",
    "else:\n",
    "     print(\"prime\")\n"
   ]
  },
  {
   "cell_type": "code",
   "execution_count": 44,
   "metadata": {},
   "outputs": [
    {
     "name": "stdout",
     "output_type": "stream",
     "text": [
      "200\n",
      "175\n",
      "150\n",
      "125\n",
      "100\n",
      "75\n",
      "50\n",
      "25\n"
     ]
    }
   ],
   "source": [
    "i = 200\n",
    "while i>0:\n",
    "    print(i)\n",
    "    i -= 25"
   ]
  }
 ],
 "metadata": {
  "kernelspec": {
   "display_name": "base",
   "language": "python",
   "name": "python3"
  },
  "language_info": {
   "codemirror_mode": {
    "name": "ipython",
    "version": 3
   },
   "file_extension": ".py",
   "mimetype": "text/x-python",
   "name": "python",
   "nbconvert_exporter": "python",
   "pygments_lexer": "ipython3",
   "version": "3.12.3"
  }
 },
 "nbformat": 4,
 "nbformat_minor": 2
}
