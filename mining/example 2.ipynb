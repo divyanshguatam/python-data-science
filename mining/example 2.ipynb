{
 "cells": [
  {
   "cell_type": "code",
   "execution_count": 1,
   "metadata": {},
   "outputs": [],
   "source": [
    "from dputils.scrape import Scraper, Tag"
   ]
  },
  {
   "cell_type": "code",
   "execution_count": 2,
   "metadata": {},
   "outputs": [],
   "source": [
    "url ='https://www.flipkart.com/boult-w40-quad-mic-enc-48h-battery-life-low-latency-gaming-made-india-5-3v-bluetooth/p/itma5448505d5b45?pid=ACCGRNFYE28EHKAD&lid=LSTACCGRNFYE28EHKADOPYJXU&marketplace=FLIPKART&store=0pm%2Ffcn&srno=b_1_1&otracker=browse&fm=organic&iid=en_txYgVfhWNv64cgJLI6w0PF0tPvfUlcQLZS0n2_v1MogC27z4JeH992iitR_yijvioHCAigaPQa0akLWk6qRIUA%3D%3D&ppt=browse&ppn=browse&ssid=lutsc5ixhc0000001727187601999'\n",
    "sc = Scraper(url)"
   ]
  },
  {
   "cell_type": "code",
   "execution_count": 3,
   "metadata": {},
   "outputs": [
    {
     "data": {
      "text/plain": [
       "\"  Boult W40 with Quad Mic ENC, 48H Battery Life, Low Latency Gaming, Made in India, 5.3v Bluetooth Price in India - Buy Boult W40 with Quad Mic ENC, 48H Battery Life, Low Latency Gaming, Made in India, 5.3v Bluetooth Online - Boult : Flipkart.com       Explore PlusLoginBecome a Seller More CartAdd to cart Buy NowHomeAudio & VideoHeadsetEarphonesWireless EarphonesTrue WirelessBoult True WirelessBoult W40 with Quad Mic ENC, 48H Battery Life, Low Latency Gaming, Made in India, 5.3v Bluetooth (Denim Blue, True Wireless)\\nCompareShareBoult W40 with Quad Mic ENC, 48H Battery Life, Low Latency Gaming, Made in India, 5.3v Bluetooth\\xa0\\xa0(Denim Blue, True Wireless)4.186,154 Ratings\\xa0&\\xa07,660 ReviewsSpecial price₹1,299₹2,99956% offiHurry, Only 1 left!Available offersBank Offer5% Unlimited Cashback on Flipkart Axis Bank Credit CardT&CSpecial PriceGet extra 7% off (price inclusive of cashback/coupon)T&CBuy together get 3% OFFT&CBuy together get 3% OFFT&CView 3 more offers1 Year WarrantyKnow MoreDeliveryCheckEnter pincodeDelivery by27 Sep, Friday|Free₹40?if ordered before 9:52 PMView DetailsColorBerry RedDenim BlueElectric BlackIvory WhiteKhaki GreenPlease select a Color to proceed✕HighlightsWith Mic:YesBluetooth version: 5.3Battery life: 48 hrsZen Quad mic ENC for crystal-clear voice calls and communicationImpressive 48 Hrs battery life for extended listening sessions45ms Ultra-Low Latency Gaming | BoomX Tech for Supreme BassBluetooth version 5.3 | 10m connectivity range | 13mm DriversIPX5 Water Resistant | Voice Assistant | Touch ControlProudly Made in India, supporting local manufacturing and expertiseServices1 Year WarrantyCash on Delivery available?SellerSuperComNet47 Days Replacement Policy?GST invoice available?See other sellersDescriptionExperience audio bliss like never before with the Boult W40 Earbuds. Boasting an impressive 48 hours of total playtime, they ensure uninterrupted entertainment for extended periods. Thanks to Lightning Boult Type-C fast charging, you can get 100 minutes of playtime with just 10 minutes of charge. An ultra-low latency of 45ms guarantees smooth audio sync during gaming and video playback, immersing you in a world of excitement. Latest Blink & Pair Bluetooth 5.3 technology ensures effortless and instant pairing with your devices, and with ZEN Mode Environmental Noise Cancellation, get crystal-clear calls even in noisy surroundings. What is more, 13mm Drivers powered by BoomX deliver rich bass and clear treble, providing an immersive audio experience. That is not all, the Boult W40 Earbuds also support SBC AAC Codecs, catering to audiophiles seeking top-notch audio quality.Read MoreSpecificationsGeneralModel IDW40ColorDenim BlueHeadphone TypeTrue WirelessInline RemoteYesSales Package1 Pair of Earbuds, Charging Case, Charging Cable, User Manual, Warranty Card, Additional Ear TipsConnectivityBluetoothHeadphone DesignEarbudCompatible DevicesLaptop, Mobile, Tablet, DesktopProduct DetailsSweat ProofYesDeep BassYesWater ResistantYesDriver TypeDynamicWith MicrophoneYesConnectivity FeaturesWireless Range10 mBluetooth Version5.3Battery Life48 hrsWarrantyDomestic Warranty1 YearWarranty Summary1 Year WarrantyWarranty Service Typesupport@boultaudio.com 9555 - 602- 502Covered in WarrantyManufacturing DefectsNot Covered in WarrantyPhysical DamagesRead MoreFrequently Bought TogetherBoult W40 with Quad Mic ENC, 48H Battery Life, Low Latency Gaming...4.1(86,154)₹1,299₹2,99956% offMMTX Plastic Press and Release Headphone Pouch4.1(8)₹399Mezokart.com Pouch for Boult Z354.3(50)₹2511 Item₹1,2992 Add-ons₹650Total₹1,949Add 3 Items to CartRatings & ReviewsRate Product4.1★86,154 Ratings &7,660 Reviews5★4★3★2★1★46,02020,8537,2163,4988,5674.0Sound Quality4.0Bass4.1Design & Build4.0Battery Backup+ 26914Very GoodLooks really good though the buds are good for basic usage, not excellent but okay for the price range.READ MORESyed Shazan HusainCertified Buyer, LucknowAug, 2023362123PermalinkReport Abuse5Fabulous!Excellent sound quality and quality of the earbuds is superb, connectivity is also excellent, no issues found.. recommended to buy thank You Flipkart..🙏🏻🙏🏻READ MORERaghava MCertified Buyer, MahbubnagarAug, 2023499162PermalinkReport Abuse5Fabulous!GoodREAD MOREPratham KadamCertified Buyer, VadodaraAug, 2023332117PermalinkReport Abuse5Great productAs an avid music lover and someone who's always on the lookout for the best audio experience, I recently had the privilege of trying out the exceptional Buds with an astounding 45-hour battery life and impressively low latency. Allow me to share my thoughts on why these buds are an absolute game-changer and why I wholeheartedly recommend them to everyone.Battery Life Beyond Belief: ⚡One of the standout features of these Buds is their unbelievable battery life. With an approximate 45 hours ...READ MORERajkumar  RathoreCertified Buyer, KotaAug, 202314144PermalinkReport Abuse5Great productBuild quality is aswm, just love the colorsSounds quality is really punchy and crystal clear, Battery life is goodREAD MORESthitaprajna DalaiCertified Buyer, BaripadaAug, 2023244PermalinkReport Abuse4Worth the moneyEverything this earbuds is good call quality is also goodREAD MOREsantanu  kumarCertified Buyer, PatnaSep, 202310240PermalinkReport Abuse5Fabulous!This is a actually good product. I am fully satisfied in this product. This price range are one of the best tws.READ MOREAtul GrowerCertified Buyer, Bhiwani DistrictSep, 2023244PermalinkReport Abuse5Must buy!Just osadharon. Khub bhalo sound quality.READ MOREPimpa SahaCertified Buyer, Birbhum District4 months ago183PermalinkReport Abuse5WonderfulSuperREAD MOREDinesh  RCertified Buyer, ArakonamAug, 20235317PermalinkReport Abuse4Worth the moneyIt Is Good 👍 You Should go with it...READ MOREKrushna  Alhat Certified Buyer, NandedSep, 2023164PermalinkReport Abuse+All 7660 reviewsQuestions and AnswersQ:Can you talk through the helmet while riding?A:No please save drive save life.Rohit  Dafadar Certified Buyer21041Report AbuseQ:Can we increase sound from the ear bud?A:Yess , by triple pressing any of the budsAnonymousCertified Buyer11038Report AbuseRead other answersQ:Does it support apple because when i connect i12 call was not so good only one side mic work every timeA:Yes it support apple and call quality was good👍AnonymousCertified Buyer13457Report AbuseQ:Calling experience and sound me kaisa haiA:AverageAnonymousCertified Buyer10147Report AbuseQ:Can we use one while another one will be charging inside the case ?A:YesFlipkart CustomerCertified Buyer50Report AbuseQ:Can it's support Motorola edge 50 pro?A:It' support all the Phones. Stop asking stupid questionAnonymousCertified Buyer91Report AbuseQ:Does it have noise cancellationA:Yes. It's goodSURESH BABU VCertified Buyer134Report AbuseRead other answersQ:Can we charge the case with realme 5i charger?? And how to know it's time of fully charged or not?A:When fully charged the light stop blinking approx..... 1hrShijo RejiCertified Buyer40Report AbuseQ:Is this reliable for calling purpose?A:CoolAnonymousCertified Buyer70Report AbuseQ:Mic available 2 or 4 ?A:4rajesh kumar sharmaCertified Buyer104Report AbuseAll questions+Safe and Secure Payments.Easy returns.100% Authentic products.Top Stories:Brand DirectoryMOST SEARCHED IN Audio & Video:AIRTEL HDAPPLE TV PRICELANCOME INDIABLUETOOTH HEADPHONES ONLINECREATIVE 2.1 SPEAKERSINTEX HOME THEATER 2.1PHILIPS SOUND SYSTEMAUDIO PLAYERBOSE SPEAKERS PRICELG LCD TV PRICESONY HOME THEATRE 5.1 PRICE LIST IN INDIASONY HOME THEATRE 2.1NUMERIC UPSJABRA BLUETOOTH HEADSETBOSE HEADPHONEHEADPHONE PRICESENHEISERSKULLCANDY EARBUDSSONY WIRELESS HEADPHONESMOTOROLA BLUETOOTH HEADSETPHILIPS HEADPHONES WITH MICSAMSUNG EARPHONESVGA CABLESTABLET PHONE PRICEABOUTContact UsAbout UsCareersFlipkart StoriesPressCorporate InformationGROUP COMPANIESMyntraCleartripShopsyHELPPaymentsShippingCancellation & ReturnsFAQReport InfringementCONSUMER POLICYCancellation & ReturnsTerms Of UseSecurityPrivacySitemapGrievance RedressalEPR ComplianceMail Us:Flipkart Internet Private Limited, \\n Buildings Alyssa, Begonia & \\n Clove Embassy Tech Village, \\n Outer Ring Road, Devarabeesanahalli Village, \\n Bengaluru, 560103, \\n Karnataka, India\\nSocialRegistered Office Address:Flipkart Internet Private Limited, \\n Buildings Alyssa, Begonia & \\n Clove Embassy Tech Village, \\n Outer Ring Road, Devarabeesanahalli Village, \\n Bengaluru, 560103, \\n Karnataka, India \\n CIN : U51109KA2012PTC066107 \\n Telephone: 044-45614700 / 044-67415800\\nBecome a SellerAdvertiseGift CardsHelp Center© 2007-2024 Flipkart.comBack to top    \\n\""
      ]
     },
     "execution_count": 3,
     "metadata": {},
     "output_type": "execute_result"
    }
   ],
   "source": [
    "sc.soup.text"
   ]
  },
  {
   "cell_type": "code",
   "execution_count": 15,
   "metadata": {},
   "outputs": [
    {
     "data": {
      "text/plain": [
       "{'title': 'Boult W40 with Quad Mic ENC, 48H Battery Life, Low Latency Gaming, Made in India, 5.3v Bluetooth\\xa0\\xa0(Denim Blue, True Wireless)',\n",
       " 'price': '₹1,299',\n",
       " 'discount': '56% off',\n",
       " 'raiting': '4.1',\n",
       " 'offers': 'Available offers',\n",
       " 'img_url': 'https://rukminim2.flixcart.com/image/416/416/xif0q/headphone/h/z/y/-original-imagx9sjpqcjvbzp.jpeg?q=70&crop=false'}"
      ]
     },
     "execution_count": 15,
     "metadata": {},
     "output_type": "execute_result"
    }
   ],
   "source": [
    "title = Tag('h1')\n",
    "price = Tag('div',cls='Nx9bqj CxhGGd')\n",
    "discount = Tag('div',cls='UkUFwK WW8yVX')\n",
    "raiting = Tag('div',cls=('XQDdHH'))\n",
    "offers= Tag('div',cls='pu8Q93')\n",
    "img = Tag('img',cls='DByuf4 IZexXJ jLEJ7H',output='src')\n",
    "sc.get_data_from_page(title=title, price =price,\n",
    "                      discount=discount,\n",
    "                      raiting=raiting,\n",
    "                      offers=offers,img_url=img,)"
   ]
  },
  {
   "cell_type": "code",
   "execution_count": null,
   "metadata": {},
   "outputs": [],
   "source": []
  },
  {
   "cell_type": "code",
   "execution_count": null,
   "metadata": {},
   "outputs": [],
   "source": []
  }
 ],
 "metadata": {
  "kernelspec": {
   "display_name": "base",
   "language": "python",
   "name": "python3"
  },
  "language_info": {
   "codemirror_mode": {
    "name": "ipython",
    "version": 3
   },
   "file_extension": ".py",
   "mimetype": "text/x-python",
   "name": "python",
   "nbconvert_exporter": "python",
   "pygments_lexer": "ipython3",
   "version": "3.12.3"
  }
 },
 "nbformat": 4,
 "nbformat_minor": 2
}
