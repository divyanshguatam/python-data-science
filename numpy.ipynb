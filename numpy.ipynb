{
 "cells": [
  {
   "cell_type": "code",
   "execution_count": 2,
   "metadata": {},
   "outputs": [],
   "source": [
    "import numpy as  np\n"
   ]
  },
  {
   "cell_type": "markdown",
   "metadata": {},
   "source": [
    "create\n",
    "basic opration\n",
    "math opration\n",
    "indexing and slicing\n",
    "boolean filter"
   ]
  },
  {
   "cell_type": "code",
   "execution_count": 3,
   "metadata": {},
   "outputs": [
    {
     "name": "stdout",
     "output_type": "stream",
     "text": [
      "[1 2 3 4 5]\n"
     ]
    }
   ],
   "source": [
    "x =np.array([1,2,3,4,5])\n",
    "print(x)"
   ]
  },
  {
   "cell_type": "code",
   "execution_count": 4,
   "metadata": {},
   "outputs": [
    {
     "name": "stdout",
     "output_type": "stream",
     "text": [
      "[[1 2 3]\n",
      " [1 2 3]]\n",
      "(2, 3)\n"
     ]
    }
   ],
   "source": [
    "a =  np.array([[1,2,3],[1,2,3]])\n",
    "print(a)\n",
    "print(a.shape)"
   ]
  },
  {
   "cell_type": "code",
   "execution_count": 6,
   "metadata": {},
   "outputs": [
    {
     "name": "stdout",
     "output_type": "stream",
     "text": [
      "[[1 2 3]\n",
      " [1 2 3]\n",
      " [1 2 3]]\n",
      "(3, 3)\n"
     ]
    }
   ],
   "source": [
    "b = np.array([[1,2,3],[1,2,3],[1,2,3]])\n",
    "print(b)\n",
    "print(b.shape)"
   ]
  },
  {
   "cell_type": "code",
   "execution_count": 7,
   "metadata": {},
   "outputs": [
    {
     "name": "stdout",
     "output_type": "stream",
     "text": [
      "[[0 1 2 3 4 5 6 7 8 9]\n",
      " [0 1 2 3 4 5 6 7 8 9]\n",
      " [0 1 2 3 4 5 6 7 8 9]\n",
      " [0 1 2 3 4 5 6 7 8 9]\n",
      " [0 1 2 3 4 5 6 7 8 9]\n",
      " [0 1 2 3 4 5 6 7 8 9]\n",
      " [0 1 2 3 4 5 6 7 8 9]\n",
      " [0 1 2 3 4 5 6 7 8 9]\n",
      " [0 1 2 3 4 5 6 7 8 9]\n",
      " [0 1 2 3 4 5 6 7 8 9]]\n",
      "(10, 10)\n"
     ]
    }
   ],
   "source": [
    "z = [0,1,2,3,4,5,6,7,8,9]\n",
    "nz = np.array([z]*10)\n",
    "print(nz)\n",
    "print(nz.shape)"
   ]
  },
  {
   "cell_type": "markdown",
   "metadata": {},
   "source": [
    "- random\n",
    "- arrange\n",
    "- linspace"
   ]
  },
  {
   "cell_type": "code",
   "execution_count": 8,
   "metadata": {},
   "outputs": [
    {
     "data": {
      "text/plain": [
       "array([[0.44674683, 0.73089782, 0.55649085],\n",
       "       [0.81376417, 0.30553754, 0.52923033],\n",
       "       [0.79608287, 0.28298471, 0.16711237]])"
      ]
     },
     "execution_count": 8,
     "metadata": {},
     "output_type": "execute_result"
    }
   ],
   "source": [
    "np.random.rand(3,3)"
   ]
  },
  {
   "cell_type": "markdown",
   "metadata": {},
   "source": []
  },
  {
   "cell_type": "code",
   "execution_count": 10,
   "metadata": {},
   "outputs": [
    {
     "name": "stdout",
     "output_type": "stream",
     "text": [
      "[[ 1  0  2  5 -4]\n",
      " [ 1 -3 -5  2  2]\n",
      " [ 5  5 -1 -2 -2]\n",
      " [ 4  1  0 -2 -1]\n",
      " [-4 -2  2 -3 -3]]\n"
     ]
    }
   ],
   "source": [
    "r1 = np.random.randint(-5,6,(5,5))\n",
    "print(r1)"
   ]
  },
  {
   "cell_type": "code",
   "execution_count": 13,
   "metadata": {},
   "outputs": [
    {
     "ename": "AttributeError",
     "evalue": "module 'numpy' has no attribute 'arrange'",
     "output_type": "error",
     "traceback": [
      "\u001b[1;31m---------------------------------------------------------------------------\u001b[0m",
      "\u001b[1;31mAttributeError\u001b[0m                            Traceback (most recent call last)",
      "Cell \u001b[1;32mIn[13], line 2\u001b[0m\n\u001b[0;32m      1\u001b[0m \u001b[38;5;66;03m# start ,stop ,gap\u001b[39;00m\n\u001b[1;32m----> 2\u001b[0m \u001b[43mnp\u001b[49m\u001b[38;5;241;43m.\u001b[39;49m\u001b[43marrange\u001b[49m(\u001b[38;5;241m0\u001b[39m,\u001b[38;5;241m50\u001b[39m, \u001b[38;5;241m.5\u001b[39m)\n",
      "File \u001b[1;32mc:\\Users\\Dell\\miniconda35\\Lib\\site-packages\\numpy\\__init__.py:424\u001b[0m, in \u001b[0;36m__getattr__\u001b[1;34m(attr)\u001b[0m\n\u001b[0;32m    421\u001b[0m     \u001b[38;5;28;01mimport\u001b[39;00m \u001b[38;5;21;01mnumpy\u001b[39;00m\u001b[38;5;21;01m.\u001b[39;00m\u001b[38;5;21;01mchar\u001b[39;00m \u001b[38;5;28;01mas\u001b[39;00m \u001b[38;5;21;01mchar\u001b[39;00m\n\u001b[0;32m    422\u001b[0m     \u001b[38;5;28;01mreturn\u001b[39;00m char\u001b[38;5;241m.\u001b[39mchararray\n\u001b[1;32m--> 424\u001b[0m \u001b[38;5;28;01mraise\u001b[39;00m \u001b[38;5;167;01mAttributeError\u001b[39;00m(\u001b[38;5;124m\"\u001b[39m\u001b[38;5;124mmodule \u001b[39m\u001b[38;5;132;01m{!r}\u001b[39;00m\u001b[38;5;124m has no attribute \u001b[39m\u001b[38;5;124m\"\u001b[39m\n\u001b[0;32m    425\u001b[0m                      \u001b[38;5;124m\"\u001b[39m\u001b[38;5;132;01m{!r}\u001b[39;00m\u001b[38;5;124m\"\u001b[39m\u001b[38;5;241m.\u001b[39mformat(\u001b[38;5;18m__name__\u001b[39m, attr))\n",
      "\u001b[1;31mAttributeError\u001b[0m: module 'numpy' has no attribute 'arrange'"
     ]
    }
   ],
   "source": [
    "# start ,stop ,gap\n",
    "np.arrange(0,50, .5)"
   ]
  },
  {
   "cell_type": "code",
   "execution_count": 14,
   "metadata": {},
   "outputs": [
    {
     "data": {
      "text/plain": [
       "array([ 0.        ,  5.55555556, 11.11111111, 16.66666667, 22.22222222,\n",
       "       27.77777778, 33.33333333, 38.88888889, 44.44444444, 50.        ])"
      ]
     },
     "execution_count": 14,
     "metadata": {},
     "output_type": "execute_result"
    }
   ],
   "source": [
    "# start, stop, number_of_iyem\n",
    "np.linspace(0, 50, 10)"
   ]
  },
  {
   "cell_type": "markdown",
   "metadata": {},
   "source": [
    "array attributes\n",
    "- shape\n",
    "- ditype\n",
    "- ndim\n",
    "- size\n",
    "\n",
    "\n",
    "basic opration\n",
    " - sum\n",
    " - mean \n",
    " - min\n",
    " - max\n",
    " - std\n",
    " - reshape\n",
    " - transpose  \n",
    " - flatten\n"
   ]
  },
  {
   "cell_type": "code",
   "execution_count": 15,
   "metadata": {},
   "outputs": [
    {
     "data": {
      "text/plain": [
       "dtype('int64')"
      ]
     },
     "execution_count": 15,
     "metadata": {},
     "output_type": "execute_result"
    }
   ],
   "source": [
    "x.dtype"
   ]
  },
  {
   "cell_type": "code",
   "execution_count": 16,
   "metadata": {},
   "outputs": [
    {
     "data": {
      "text/plain": [
       "dtype('float64')"
      ]
     },
     "execution_count": 16,
     "metadata": {},
     "output_type": "execute_result"
    }
   ],
   "source": [
    "x = np.random.rand(3,3)\n",
    "x.dtype"
   ]
  },
  {
   "cell_type": "code",
   "execution_count": 17,
   "metadata": {},
   "outputs": [
    {
     "data": {
      "text/plain": [
       "2"
      ]
     },
     "execution_count": 17,
     "metadata": {},
     "output_type": "execute_result"
    }
   ],
   "source": [
    "x.ndim"
   ]
  },
  {
   "cell_type": "code",
   "execution_count": 18,
   "metadata": {},
   "outputs": [
    {
     "data": {
      "text/plain": [
       "3"
      ]
     },
     "execution_count": 18,
     "metadata": {},
     "output_type": "execute_result"
    }
   ],
   "source": [
    "z = np.random.randint(1,5,(3,3,3))\n",
    "z.ndim"
   ]
  },
  {
   "cell_type": "code",
   "execution_count": 19,
   "metadata": {},
   "outputs": [
    {
     "data": {
      "text/plain": [
       "27"
      ]
     },
     "execution_count": 19,
     "metadata": {},
     "output_type": "execute_result"
    }
   ],
   "source": [
    "z.size"
   ]
  },
  {
   "cell_type": "code",
   "execution_count": 20,
   "metadata": {},
   "outputs": [
    {
     "data": {
      "text/plain": [
       "np.int64(73)"
      ]
     },
     "execution_count": 20,
     "metadata": {},
     "output_type": "execute_result"
    }
   ],
   "source": [
    "z.sum()"
   ]
  },
  {
   "cell_type": "code",
   "execution_count": 27,
   "metadata": {},
   "outputs": [
    {
     "name": "stdout",
     "output_type": "stream",
     "text": [
      "3.863008629311017\n",
      "[0.99012113 1.39910431 1.47378319]\n",
      "[2.55493785 1.30807078]\n",
      "0.6438347715518361\n",
      "0.9507586292655594\n",
      "0.04797634271050699\n",
      "0.3060113031093505\n",
      "0.09364291763068276\n"
     ]
    }
   ],
   "source": [
    "a = np.random.rand(2,3)\n",
    "print(a.sum())\n",
    "print(a.sum(axis=0)) # columm wise\n",
    "print(a.sum(axis=1)) # row wise\n",
    "print(a.mean())\n",
    "print(a.max())\n",
    "print(a.min())\n",
    "print(a.std())\n",
    "print(a.var())\n",
    "# all the methods can be used with axis"
   ]
  },
  {
   "cell_type": "code",
   "execution_count": 29,
   "metadata": {},
   "outputs": [
    {
     "name": "stdout",
     "output_type": "stream",
     "text": [
      "[[36 45 24 73 71]\n",
      " [76 49 52 84 47]\n",
      " [79 61 33 51 36]\n",
      " [67 16 75 34 34]\n",
      " [23 61 88 27 98]]\n",
      "transpose\n",
      "[[36 76 79 67 23]\n",
      " [45 49 61 16 61]\n",
      " [24 52 33 75 88]\n",
      " [73 84 51 34 27]\n",
      " [71 47 36 34 98]]\n",
      "flattened\n",
      "[36 45 24 73 71 76 49 52 84 47 79 61 33 51 36 67 16 75 34 34 23 61 88 27\n",
      " 98]\n"
     ]
    }
   ],
   "source": [
    "z = np.random.randint(11,99,(5,5))\n",
    "print(z)\n",
    "print('transpose')\n",
    "print(z.transpose()) # or print(z.t)\n",
    "print('flattened')\n",
    "print(z.flatten())"
   ]
  },
  {
   "cell_type": "code",
   "execution_count": 31,
   "metadata": {},
   "outputs": [
    {
     "name": "stdout",
     "output_type": "stream",
     "text": [
      "[[5 5 9 3 7]\n",
      " [3 9 6 3 3]\n",
      " [4 6 8 2 1]\n",
      " [2 7 9 7 2]]\n",
      "[5 5 9 3 7 3 9 6 3 3 4 6 8 2 1 2 7 9 7 2]\n",
      "[[5 5 9 3 7 3 9 6 3 3]\n",
      " [4 6 8 2 1 2 7 9 7 2]]\n",
      "[[5 5]\n",
      " [9 3]\n",
      " [7 3]\n",
      " [9 6]\n",
      " [3 3]\n",
      " [4 6]\n",
      " [8 2]\n",
      " [1 2]\n",
      " [7 9]\n",
      " [7 2]]\n"
     ]
    }
   ],
   "source": [
    "a = np.random.randint(1,10,(4,5))\n",
    "print(a)\n",
    "print(a.reshape(20))\n",
    "print(a.reshape(2,10))\n",
    "print(a.reshape(10,2))"
   ]
  },
  {
   "cell_type": "code",
   "execution_count": 32,
   "metadata": {},
   "outputs": [
    {
     "name": "stdout",
     "output_type": "stream",
     "text": [
      "[[1 2]\n",
      " [3 4]]\n",
      "[[6 2]\n",
      " [6 3]]\n"
     ]
    }
   ],
   "source": [
    "a= np.array([[1,2],[3,4]])\n",
    "b = np.array([[6,2],[6,3]])\n",
    "print(a)\n",
    "print(b)"
   ]
  },
  {
   "cell_type": "code",
   "execution_count": 33,
   "metadata": {},
   "outputs": [
    {
     "name": "stdout",
     "output_type": "stream",
     "text": [
      "[[7 4]\n",
      " [9 7]]\n",
      "[[-5  0]\n",
      " [-3  1]]\n",
      "[[0.16666667 1.        ]\n",
      " [0.5        1.33333333]]\n",
      "[[ 6  4]\n",
      " [18 12]]\n",
      "[[18  8]\n",
      " [42 18]]\n",
      "[[18  8]\n",
      " [42 18]]\n"
     ]
    }
   ],
   "source": [
    "# whwn using 2 matrix  the shape must be yhe same\n",
    "print(a+b)\n",
    "print(a-b)\n",
    "print(a/b) # element wise division\n",
    "print(a*b) # element wise multiplictaion\n",
    "print(a@b) # matrix multiplication\n",
    "print(a.dot(b)) # matrix multiplication"
   ]
  },
  {
   "cell_type": "code",
   "execution_count": 34,
   "metadata": {},
   "outputs": [
    {
     "name": "stdout",
     "output_type": "stream",
     "text": [
      "[[-9 -8]\n",
      " [-7 -6]]\n",
      "[[10 20]\n",
      " [30 40]]\n",
      "[[0.1 0.2]\n",
      " [0.3 0.4]]\n",
      "[[11 12]\n",
      " [13 14]]\n"
     ]
    }
   ],
   "source": [
    " # when usinhg matrix and scalar\n",
    "print(a-10) # boardcasting\n",
    "print(a*10) \n",
    "print(a/10)\n",
    "print(a+10)"
   ]
  },
  {
   "cell_type": "code",
   "execution_count": 35,
   "metadata": {},
   "outputs": [
    {
     "data": {
      "text/plain": [
       "array([1, 2])"
      ]
     },
     "execution_count": 35,
     "metadata": {},
     "output_type": "execute_result"
    }
   ],
   "source": [
    " # indexing\n",
    "print(a[0,0])\n",
    "print(a[-1,-1])"
   ]
  },
  {
   "cell_type": "code",
   "execution_count": 37,
   "metadata": {},
   "outputs": [
    {
     "name": "stdout",
     "output_type": "stream",
     "text": [
      "[[6 4 8 1 4]\n",
      " [2 9 2 4 6]\n",
      " [7 7 5 1 4]\n",
      " [1 9 1 5 7]\n",
      " [8 9 4 1 6]]\n",
      "[6 2 7 1 8]\n",
      "[4 6 4 7 6]\n",
      "[[6 4 8]\n",
      " [2 9 2]\n",
      " [7 7 5]\n",
      " [1 9 1]\n",
      " [8 9 4]]\n"
     ]
    }
   ],
   "source": [
    "# slicing\n",
    "x = np.random.randint(1,10,(5,5))\n",
    "print(x)\n",
    "print(x[:,0]) # first column\n",
    "print(x[:,-1]) # last column\n",
    "print(x[:,:3]) #  first  3 column"
   ]
  }
 ],
 "metadata": {
  "kernelspec": {
   "display_name": "base",
   "language": "python",
   "name": "python3"
  },
  "language_info": {
   "codemirror_mode": {
    "name": "ipython",
    "version": 3
   },
   "file_extension": ".py",
   "mimetype": "text/x-python",
   "name": "python",
   "nbconvert_exporter": "python",
   "pygments_lexer": "ipython3",
   "version": "3.12.3"
  }
 },
 "nbformat": 4,
 "nbformat_minor": 2
}
