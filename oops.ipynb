{
 "cells": [
  {
   "cell_type": "markdown",
   "metadata": {},
   "source": [
    "# OOPS\n",
    "- classes and object\n",
    " - Attributes (Instance Variables)\n",
    " - Methods\n",
    " - constructor\n",
    "- Data classes\n",
    "- inhertance\n",
    " - simple inheritance \n",
    " - multiple inheritance"
   ]
  },
  {
   "cell_type": "code",
   "execution_count": 40,
   "metadata": {},
   "outputs": [],
   "source": [
    "a = 10"
   ]
  },
  {
   "cell_type": "code",
   "execution_count": 41,
   "metadata": {},
   "outputs": [
    {
     "data": {
      "text/plain": [
       "type"
      ]
     },
     "execution_count": 41,
     "metadata": {},
     "output_type": "execute_result"
    }
   ],
   "source": [
    "type"
   ]
  },
  {
   "cell_type": "code",
   "execution_count": 42,
   "metadata": {},
   "outputs": [
    {
     "name": "stdout",
     "output_type": "stream",
     "text": [
      "<class 'int'>\n"
     ]
    }
   ],
   "source": [
    "print(type(a))  "
   ]
  },
  {
   "cell_type": "code",
   "execution_count": 43,
   "metadata": {},
   "outputs": [],
   "source": [
    "class A:\n",
    "    Value = 10"
   ]
  },
  {
   "cell_type": "code",
   "execution_count": 44,
   "metadata": {},
   "outputs": [
    {
     "name": "stdout",
     "output_type": "stream",
     "text": [
      "10\n"
     ]
    }
   ],
   "source": [
    "a= A() # obj creation of classs A\n",
    "print(a.Value) #10"
   ]
  },
  {
   "cell_type": "code",
   "execution_count": 45,
   "metadata": {},
   "outputs": [],
   "source": [
    "class Square:\n",
    "    \n",
    "    side = 10\n",
    "    # instance method -> 1st parameter is self\n",
    "    def area(self):\n",
    "        return self.side ** 2\n",
    "    def perimeter(self):\n",
    "        return 4 * self.side\n",
    "    # class methode // smilar to static method in java\n",
    "    def faltu():\n",
    "        return \" this is faltu\""
   ]
  },
  {
   "cell_type": "code",
   "execution_count": 46,
   "metadata": {},
   "outputs": [
    {
     "data": {
      "text/plain": [
       "' this is faltu'"
      ]
     },
     "execution_count": 46,
     "metadata": {},
     "output_type": "execute_result"
    }
   ],
   "source": [
    "Square.side\n",
    "Square.faltu()"
   ]
  },
  {
   "cell_type": "code",
   "execution_count": 47,
   "metadata": {},
   "outputs": [
    {
     "name": "stdout",
     "output_type": "stream",
     "text": [
      "400\n",
      "80\n",
      "100\n",
      "40\n"
     ]
    }
   ],
   "source": [
    "\n",
    "\n",
    "s = Square()\n",
    "s.side =20\n",
    "print(s.area())\n",
    "print(s.perimeter())\n",
    "\n",
    "s2 = Square()\n",
    "s.side =5\n",
    "print(s2.area())\n",
    "print(s2.perimeter())"
   ]
  },
  {
   "cell_type": "markdown",
   "metadata": {},
   "source": [
    "constructor\n",
    "'''\n",
    "__int__(self,...)"
   ]
  },
  {
   "cell_type": "code",
   "execution_count": 48,
   "metadata": {},
   "outputs": [],
   "source": [
    "class person:\n",
    "    def __init__(self,name,age,gender):\n",
    "        # instance variable\n",
    "        self.name = name\n",
    "        self.age = age\n",
    "        self.gender = gender\n",
    "\n",
    "    def show(self):\n",
    "        print(f\"name:{self.name},\") \n",
    "        print(f\"age:{self.age},\")\n",
    "        print(f\"gender:{self.gender}\")   \n"
   ]
  },
  {
   "cell_type": "code",
   "execution_count": 49,
   "metadata": {},
   "outputs": [],
   "source": [
    "p1 = person(\"hari\", 14, \"male\")\n",
    "p2 = person(\"sita\", 20,\"female\")\n",
    "p3 = person(\"gita\", 19,\"female\")"
   ]
  },
  {
   "cell_type": "code",
   "execution_count": 50,
   "metadata": {},
   "outputs": [],
   "source": [
    "class  calculator:\n",
    "    def add(self,a, b,):\n",
    "        return a+b\n",
    "    def subtract(self,a, b,):\n",
    "        return a-b\n",
    "    def multiply(self,a, b,):\n",
    "        return a*b\n",
    "    def divide(self,a, b,):\n",
    "        return a/b\n",
    "    "
   ]
  },
  {
   "cell_type": "code",
   "execution_count": 51,
   "metadata": {},
   "outputs": [
    {
     "name": "stdout",
     "output_type": "stream",
     "text": [
      "30\n",
      "-10\n",
      "200\n"
     ]
    }
   ],
   "source": [
    "c = calculator()\n",
    "print(c.add(10,20))\n",
    "print(c.subtract(10,20))\n",
    "print(c.multiply(10,20))"
   ]
  },
  {
   "cell_type": "markdown",
   "metadata": {},
   "source": [
    "data classes"
   ]
  },
  {
   "cell_type": "code",
   "execution_count": 52,
   "metadata": {},
   "outputs": [],
   "source": [
    "from dataclasses import dataclass\n",
    "@dataclass\n",
    "class product:\n",
    "    name: str\n",
    "    price: float\n",
    "    qty: int\n",
    "\n",
    "\n",
    "product=[\n",
    "    product(\"apple\", 100,200),\n",
    "    product(\"banana\",50,20),\n",
    "    product(\"mango\",200,5)\n",
    "]    "
   ]
  },
  {
   "cell_type": "code",
   "execution_count": 54,
   "metadata": {},
   "outputs": [
    {
     "ename": "NameError",
     "evalue": "name 'products' is not defined",
     "output_type": "error",
     "traceback": [
      "\u001b[1;31m---------------------------------------------------------------------------\u001b[0m",
      "\u001b[1;31mNameError\u001b[0m                                 Traceback (most recent call last)",
      "Cell \u001b[1;32mIn[54], line 1\u001b[0m\n\u001b[1;32m----> 1\u001b[0m \u001b[38;5;28;01mfor\u001b[39;00m item \u001b[38;5;129;01min\u001b[39;00m \u001b[43mproducts\u001b[49m:\n\u001b[0;32m      2\u001b[0m     \u001b[38;5;28mprint\u001b[39m(item\u001b[38;5;241m.\u001b[39mname, item\u001b[38;5;241m.\u001b[39mprice\u001b[38;5;241m*\u001b[39mitem\u001b[38;5;241m.\u001b[39mqty)\n",
      "\u001b[1;31mNameError\u001b[0m: name 'products' is not defined"
     ]
    }
   ],
   "source": [
    "for item in product:\n",
    "    print(item.name, item.price*item.qty)"
   ]
  },
  {
   "cell_type": "code",
   "execution_count": 55,
   "metadata": {},
   "outputs": [
    {
     "data": {
      "text/plain": [
       "[product(name='apple', price=100, qty=200),\n",
       " product(name='banana', price=50, qty=20),\n",
       " product(name='mango', price=200, qty=5)]"
      ]
     },
     "execution_count": 55,
     "metadata": {},
     "output_type": "execute_result"
    }
   ],
   "source": [
    "product"
   ]
  },
  {
   "cell_type": "code",
   "execution_count": 56,
   "metadata": {},
   "outputs": [
    {
     "data": {
      "text/plain": [
       "[<__main__.person at 0x254b33f0680>,\n",
       " <__main__.person at 0x254b3417b90>,\n",
       " <__main__.person at 0x254b3417fe0>]"
      ]
     },
     "execution_count": 56,
     "metadata": {},
     "output_type": "execute_result"
    }
   ],
   "source": [
    "[p1,p2,p3]"
   ]
  },
  {
   "cell_type": "code",
   "execution_count": 57,
   "metadata": {},
   "outputs": [
    {
     "name": "stdout",
     "output_type": "stream",
     "text": [
      "[1 2 3 4 5 6 7]\n"
     ]
    }
   ],
   "source": [
    "import numpy as np \n",
    "print(np.array([1,2,3,4,5,6,7]))"
   ]
  },
  {
   "cell_type": "code",
   "execution_count": 58,
   "metadata": {},
   "outputs": [],
   "source": [
    "class Dog:\n",
    "    def __init__(self, bread,color,gender,age,name):\n",
    "        self.breed = bread\n",
    "        self.color = color\n",
    "        self.gender = age\n",
    "        self.name = name\n",
    "    def bark(self):\n",
    "        print(\"barking\")\n",
    "    def eat(self,food):\n",
    "        print(f\"{self.name} eating{food}\")\n",
    "    def sleep(self,duration):\n",
    "        print(f\"{self.name} slept for{duration} hours\" )\n",
    "    def __str__(self):\n",
    "        return f\"{self.name}({self.breed})\"    \n",
    "\n"
   ]
  },
  {
   "cell_type": "code",
   "execution_count": 60,
   "metadata": {},
   "outputs": [
    {
     "name": "stdout",
     "output_type": "stream",
     "text": [
      "tommy slept for5 hours\n",
      "tommy(german shepherd)\n"
     ]
    }
   ],
   "source": [
    "d1 = Dog(\"german shepherd\", \"mae\",\"brown\",3, \"tommy\")\n",
    "d1 .sleep(5)\n",
    "print(d1)"
   ]
  },
  {
   "cell_type": "markdown",
   "metadata": {},
   "source": [
    "inheritance"
   ]
  },
  {
   "cell_type": "code",
   "execution_count": 70,
   "metadata": {},
   "outputs": [],
   "source": [
    "class superlist(list):\n",
    "    def sum(self):\n",
    "        total = 0\n",
    "        for item in self:\n",
    "            if  isinstance(item,(int, float)):\n",
    "                total += item\n",
    "            return total\n",
    "    def mean(self):\n",
    "        return self.sum()\n",
    "    def size(self):\n",
    "        return len([i for i in self if isinstance(i,isinstance(i,(int,float)))])"
   ]
  },
  {
   "cell_type": "code",
   "execution_count": 67,
   "metadata": {},
   "outputs": [
    {
     "name": "stdout",
     "output_type": "stream",
     "text": [
      "1\n",
      "0\n"
     ]
    }
   ],
   "source": [
    "s1 = superlist([1,2,3,4,5,6])\n",
    "print(s1.sum())\n",
    "s12 = superlist(['a',12,3,4,'b','c',10])\n",
    "print(s12.sum())"
   ]
  },
  {
   "cell_type": "code",
   "execution_count": 65,
   "metadata": {},
   "outputs": [],
   "source": [
    "s1 = superlist([1,2,3,4,5,6])"
   ]
  },
  {
   "cell_type": "code",
   "execution_count": null,
   "metadata": {},
   "outputs": [],
   "source": []
  }
 ],
 "metadata": {
  "kernelspec": {
   "display_name": "base",
   "language": "python",
   "name": "python3"
  },
  "language_info": {
   "codemirror_mode": {
    "name": "ipython",
    "version": 3
   },
   "file_extension": ".py",
   "mimetype": "text/x-python",
   "name": "python",
   "nbconvert_exporter": "python",
   "pygments_lexer": "ipython3",
   "version": "3.12.3"
  }
 },
 "nbformat": 4,
 "nbformat_minor": 2
}
