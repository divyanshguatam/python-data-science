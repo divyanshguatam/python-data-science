{
 "cells": [
  {
   "cell_type": "markdown",
   "metadata": {},
   "source": [
    "  set\n",
    "   create\n",
    "   method"
   ]
  },
  {
   "cell_type": "markdown",
   "metadata": {},
   "source": [
    "set\n",
    "   create\n",
    "   method"
   ]
  },
  {
   "cell_type": "code",
   "execution_count": null,
   "metadata": {},
   "outputs": [],
   "source": [
    "x = set() # empty\n",
    "print(x)\n",
    "y = {1,2,3,4,5,6,1,2}\n",
    "print(y)\n",
    "fruits = {\"apple\", \"banana\", \"cherry\"}\n",
    "print(fruits)\n",
    "data = {'apple',205, 3.14, 'banana'}\n",
    "print(data)\n",
    "a = set([1,2,3,4,5,6,7,8,9,10])\n",
    "b = set(\"harry potter\")\n",
    "print(a)\n",
    "print(b)"
   ]
  },
  {
   "cell_type": "code",
   "execution_count": null,
   "metadata": {},
   "outputs": [],
   "source": [
    "a = set()\n",
    "a.add(\"The final empire\")\n",
    "a.add(\"The hero of ages\")\n",
    "a.add(\"The well of ascension\")\n",
    "print(a)"
   ]
  },
  {
   "cell_type": "code",
   "execution_count": null,
   "metadata": {},
   "outputs": [],
   "source": [
    "a.update(['AppleSeed','ApplePie','AppleCider'])\n",
    "print(a)"
   ]
  },
  {
   "cell_type": "code",
   "execution_count": null,
   "metadata": {},
   "outputs": [],
   "source": [
    "a = {1,2,3}\n",
    "b = {3,4,5}\n",
    "c = {6,7,8}\n",
    "ab = a.union(b)\n",
    "print(ab)\n",
    "print(a.union(b,c))\n",
    "print(a | b | c) # | is union\n"
   ]
  },
  {
   "cell_type": "code",
   "execution_count": null,
   "metadata": {},
   "outputs": [],
   "source": [
    "print(a.intersection(b))\n",
    "print(a & b) # & is intersection\n",
    "print(a & c)\n",
    "print(a & b & c)"
   ]
  },
  {
   "cell_type": "code",
   "execution_count": null,
   "metadata": {},
   "outputs": [],
   "source": [
    "print(a.difference(b))\n",
    "print(b.difference(a))\n",
    "print(a - b) # - is difference\n",
    "print(a.symmetric_difference(b))\n",
    "print(a ^ b) # ^ is symmetric difference"
   ]
  },
  {
   "cell_type": "markdown",
   "metadata": {},
   "source": [
    "# Dictionary\n"
   ]
  },
  {
   "cell_type": "code",
   "execution_count": null,
   "metadata": {},
   "outputs": [],
   "source": [
    "data = [\"alexa\", True, False,29,\"new york\",\"photographer\"]\n",
    "datadict = {\n",
    "    'name': 'alex',\n",
    "    'is married': True,\n",
    "    'age': 29,\n",
    "    'city': 'new york',\n",
    "    'profession': 'photographer'\n",
    "\n",
    "}\n",
    "movies ={} #empty dictionary\n",
    "expenditure =dict(\n",
    "    food = 500,\n",
    "    rent = 1700,\n",
    "    insurance =200,\n",
    "\n",
    ")\n",
    "print(datadict)\n",
    "print(expenditure)"
   ]
  },
  {
   "cell_type": "markdown",
   "metadata": {},
   "source": [
    "- creating\n",
    "- accessing\n",
    "- add or update\n",
    "- remove \n",
    "- traversal"
   ]
  },
  {
   "cell_type": "code",
   "execution_count": null,
   "metadata": {},
   "outputs": [],
   "source": [
    "print(datadict['name'])\n",
    "print(datadict['is married'])\n",
    "print(datadict['city'])\n",
    "# print(datadict['state]) # keyError\n"
   ]
  },
  {
   "cell_type": "code",
   "execution_count": null,
   "metadata": {},
   "outputs": [],
   "source": [
    "print(datadict.get('city'))\n",
    "print(datadict.get('city')) #city is not the dictionary\n",
    "print(datadict.get('age',100))\n",
    "print(datadict.get('AGE',100)) # AGE is not in dictionary"
   ]
  },
  {
   "cell_type": "code",
   "execution_count": 43,
   "metadata": {},
   "outputs": [
    {
     "name": "stdout",
     "output_type": "stream",
     "text": [
      "{'deadpool & wolverine': 'shawan levay', 'inception': 'chritopher nolan', 'the dark knight': 'christopher nolan', 'the prestige': 'christhoper nolan', 'the matrix': 'wachowski brothers', 'bahubali': 'ss rajamouli'}\n"
     ]
    }
   ],
   "source": [
    "movies['deadpool & wolverine'] = \"shawan levay\"\n",
    "movies ['bahubali']= \"ss rajamouli\"\n",
    "movies['inception'] = \"chritopher nolan\"\n",
    "print(movies)"
   ]
  },
  {
   "cell_type": "code",
   "execution_count": 42,
   "metadata": {},
   "outputs": [
    {
     "name": "stdout",
     "output_type": "stream",
     "text": [
      "{'deadpool & wolverine': 'shawan levay', 'inception': 'chritopher nolan', 'the dark knight': 'christopher nolan', 'the prestige': 'christhoper nolan', 'the matrix': 'wachowski brothers'}\n"
     ]
    }
   ],
   "source": [
    "movies.update(\n",
    "    {\n",
    "        'the dark knight': 'christopher nolan',\n",
    "        'the prestige': 'christhoper nolan',\n",
    "        'the matrix': 'wachowski brothers',\n",
    "    }\n",
    ")\n",
    "print(movies)"
   ]
  },
  {
   "cell_type": "code",
   "execution_count": 41,
   "metadata": {},
   "outputs": [
    {
     "name": "stdout",
     "output_type": "stream",
     "text": [
      "{'name': 'Alexnder', 'is married': True, 'age': 29, 'city': 'new york', 'profession': 'photographer'}\n"
     ]
    }
   ],
   "source": [
    "datadict['name'] = 'Alexnder'\n",
    "print(datadict)"
   ]
  },
  {
   "cell_type": "code",
   "execution_count": 40,
   "metadata": {},
   "outputs": [
    {
     "ename": "KeyError",
     "evalue": "'bahubali'",
     "output_type": "error",
     "traceback": [
      "\u001b[1;31m---------------------------------------------------------------------------\u001b[0m",
      "\u001b[1;31mKeyError\u001b[0m                                  Traceback (most recent call last)",
      "Cell \u001b[1;32mIn[40], line 1\u001b[0m\n\u001b[1;32m----> 1\u001b[0m \u001b[43mmovies\u001b[49m\u001b[38;5;241;43m.\u001b[39;49m\u001b[43mpop\u001b[49m\u001b[43m(\u001b[49m\u001b[38;5;124;43m'\u001b[39;49m\u001b[38;5;124;43mbahubali\u001b[39;49m\u001b[38;5;124;43m'\u001b[39;49m\u001b[43m)\u001b[49m \u001b[38;5;66;03m# dictionry may data delete krne ka short fron pop hota hai\u001b[39;00m\n",
      "\u001b[1;31mKeyError\u001b[0m: 'bahubali'"
     ]
    }
   ],
   "source": [
    "movies.pop('bahubali') # dictionry may data delete krne ka short fron pop hota hai\n"
   ]
  },
  {
   "cell_type": "code",
   "execution_count": 39,
   "metadata": {},
   "outputs": [
    {
     "data": {
      "text/plain": [
       "{'deadpool & wolverine': 'shawan levay',\n",
       " 'inception': 'chritopher nolan',\n",
       " 'the dark knight': 'christopher nolan',\n",
       " 'the prestige': 'christhoper nolan',\n",
       " 'the matrix': 'wachowski brothers'}"
      ]
     },
     "execution_count": 39,
     "metadata": {},
     "output_type": "execute_result"
    }
   ],
   "source": [
    "movies"
   ]
  },
  {
   "cell_type": "markdown",
   "metadata": {},
   "source": [
    "for loop in dict will iterate over keys"
   ]
  },
  {
   "cell_type": "code",
   "execution_count": 38,
   "metadata": {},
   "outputs": [
    {
     "name": "stdout",
     "output_type": "stream",
     "text": [
      "Alexnder\n",
      "True\n",
      "29\n",
      "new york\n",
      "photographer\n"
     ]
    }
   ],
   "source": [
    "for item in datadict:\n",
    "    print(datadict[item])"
   ]
  },
  {
   "cell_type": "code",
   "execution_count": 37,
   "metadata": {},
   "outputs": [
    {
     "name": "stdout",
     "output_type": "stream",
     "text": [
      "Alexnder\n",
      "True\n",
      "29\n",
      "new york\n",
      "photographer\n"
     ]
    }
   ],
   "source": [
    "for item in datadict:\n",
    "    print(datadict[item])\n",
    "    "
   ]
  },
  {
   "cell_type": "code",
   "execution_count": 36,
   "metadata": {},
   "outputs": [
    {
     "name": "stdout",
     "output_type": "stream",
     "text": [
      "name Alexnder\n",
      "is married True\n",
      "age 29\n",
      "city new york\n",
      "profession photographer\n"
     ]
    }
   ],
   "source": [
    "for k,v in datadict.items():\n",
    "    print(k,v)"
   ]
  },
  {
   "cell_type": "code",
   "execution_count": 35,
   "metadata": {},
   "outputs": [
    {
     "data": {
      "text/plain": [
       "dict_keys(['deadpool & wolverine', 'inception', 'the dark knight', 'the prestige', 'the matrix'])"
      ]
     },
     "execution_count": 35,
     "metadata": {},
     "output_type": "execute_result"
    }
   ],
   "source": [
    "movies.keys()"
   ]
  },
  {
   "cell_type": "code",
   "execution_count": 34,
   "metadata": {},
   "outputs": [
    {
     "data": {
      "text/plain": [
       "dict_values(['shawan levay', 'chritopher nolan', 'christopher nolan', 'christhoper nolan', 'wachowski brothers'])"
      ]
     },
     "execution_count": 34,
     "metadata": {},
     "output_type": "execute_result"
    }
   ],
   "source": [
    "movies.values()"
   ]
  },
  {
   "cell_type": "markdown",
   "metadata": {},
   "source": [
    "nested dictionay"
   ]
  },
  {
   "cell_type": "code",
   "execution_count": 46,
   "metadata": {},
   "outputs": [],
   "source": [
    "report = {\n",
    "    '01':{\n",
    "        'name': \"alex\",\n",
    "        'subject': {\n",
    "            'maths':80,\n",
    "            'science':75,\n",
    "            'english':25,\n",
    "\n",
    "        }\n",
    "    },\n",
    "    '02':{\n",
    "        'name': \"jhon\",\n",
    "        'subject':{\n",
    "            'maths':50,\n",
    "            'science':20,\n",
    "            'english':85\n",
    "        }\n",
    "    }\n",
    "}"
   ]
  },
  {
   "cell_type": "code",
   "execution_count": 48,
   "metadata": {},
   "outputs": [
    {
     "data": {
      "text/plain": [
       "85"
      ]
     },
     "execution_count": 48,
     "metadata": {},
     "output_type": "execute_result"
    }
   ],
   "source": [
    "report['02']['subject']['english']"
   ]
  },
  {
   "cell_type": "code",
   "execution_count": 47,
   "metadata": {},
   "outputs": [],
   "source": [
    "from pprint import pp"
   ]
  },
  {
   "cell_type": "code",
   "execution_count": 49,
   "metadata": {},
   "outputs": [
    {
     "name": "stdout",
     "output_type": "stream",
     "text": [
      "{'01': {'name': 'alex', 'subject': {'maths': 80, 'science': 75, 'english': 25}},\n",
      " '02': {'name': 'jhon', 'subject': {'maths': 50, 'science': 20, 'english': 85}}}\n"
     ]
    }
   ],
   "source": [
    "pp(report)"
   ]
  },
  {
   "cell_type": "code",
   "execution_count": 53,
   "metadata": {},
   "outputs": [
    {
     "name": "stdout",
     "output_type": "stream",
     "text": [
      "{'year': [2019, 2012, 2023, 2024, 2015], 'rainfall': [100, 200, 300.0]}\n"
     ]
    }
   ],
   "source": [
    "rainfall_data = {\n",
    "    'year': [2019,2012,2023,2024,2015],\n",
    "    'rainfall':[100,200,300.]\n",
    "\n",
    "}\n",
    "print(rainfall_data)"
   ]
  },
  {
   "cell_type": "code",
   "execution_count": null,
   "metadata": {},
   "outputs": [],
   "source": []
  }
 ],
 "metadata": {
  "kernelspec": {
   "display_name": "base",
   "language": "python",
   "name": "python3"
  },
  "language_info": {
   "codemirror_mode": {
    "name": "ipython",
    "version": 3
   },
   "file_extension": ".py",
   "mimetype": "text/x-python",
   "name": "python",
   "nbconvert_exporter": "python",
   "pygments_lexer": "ipython3",
   "version": "3.12.3"
  }
 },
 "nbformat": 4,
 "nbformat_minor": 2
}
