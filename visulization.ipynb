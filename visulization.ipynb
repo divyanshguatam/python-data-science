{
 "cells": [
  {
   "cell_type": "markdown",
   "metadata": {},
   "source": [
    "# visulization\n",
    "- libraries\n",
    " - matplotlip -  base of all visulization\n",
    " - seaborn - high level interface for drwaing attractive and informative\n",
    " statistical graphics\n",
    " - plotly- interractive plots(web based)\n",
    "pip install matplotlib seabron ploty nbfromate statesmodeleas\n",
    " \n",
    "  "
   ]
  },
  {
   "cell_type": "markdown",
   "metadata": {},
   "source": [
    " # graphs\n",
    "\n",
    "1. univerarite grphs : graphs that take a signal varible \n",
    "-"
   ]
  }
 ],
 "metadata": {
  "language_info": {
   "name": "python"
  }
 },
 "nbformat": 4,
 "nbformat_minor": 2
}
